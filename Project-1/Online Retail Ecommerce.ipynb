{
 "cells": [
  {
   "cell_type": "markdown",
   "id": "72587966",
   "metadata": {},
   "source": [
    "# Step 1: Deciding (not) to Segment"
   ]
  },
  {
   "cell_type": "markdown",
   "id": "0a9ea460",
   "metadata": {},
   "source": [
    "### Problem Statment : Online retail is a transnational data set which contains all the transactions occurring between 01/12/2010 and 09/12/2011 for a UK-based and registered non-store online retail. The company mainly sells unique all-occasion gifts. Many customers of the company are wholesalers.\n"
   ]
  },
  {
   "cell_type": "markdown",
   "id": "53b9d844",
   "metadata": {},
   "source": [
    "# Step 2:Specifying the Ideal Target Segment\n",
    "Business Goal\n",
    "We aim to segement the Customers based on RFM so that the company can target its customers efficiently."
   ]
  },
  {
   "cell_type": "markdown",
   "id": "6b725ead",
   "metadata": {},
   "source": [
    "# Step 3: Collecting Data and Step 4: Exploring Data"
   ]
  },
  {
   "cell_type": "code",
   "execution_count": 5,
   "id": "e9f37f22",
   "metadata": {},
   "outputs": [],
   "source": [
    "import pandas as pd\n",
    "import numpy as np\n",
    "import matplotlib.pyplot as plt\n",
    "import sklearn\n",
    "from sklearn.preprocessing import StandardScaler\n",
    "from sklearn.preprocessing import normalize\n",
    "from sklearn.cluster import KMeans\n",
    "from sklearn.metrics import silhouette_score\n",
    "from scipy.cluster.hierarchy import linkage\n",
    "from scipy.cluster.hierarchy import dendrogram\n",
    "from scipy.cluster.hierarchy import cut_tree\n",
    "import seaborn as sns\n",
    "plt.style.use('fivethirtyeight')"
   ]
  },
  {
   "cell_type": "code",
   "execution_count": 6,
   "id": "a4a34e3e",
   "metadata": {},
   "outputs": [
    {
     "data": {
      "text/html": [
       "<div>\n",
       "<style scoped>\n",
       "    .dataframe tbody tr th:only-of-type {\n",
       "        vertical-align: middle;\n",
       "    }\n",
       "\n",
       "    .dataframe tbody tr th {\n",
       "        vertical-align: top;\n",
       "    }\n",
       "\n",
       "    .dataframe thead th {\n",
       "        text-align: right;\n",
       "    }\n",
       "</style>\n",
       "<table border=\"1\" class=\"dataframe\">\n",
       "  <thead>\n",
       "    <tr style=\"text-align: right;\">\n",
       "      <th></th>\n",
       "      <th>InvoiceNo</th>\n",
       "      <th>StockCode</th>\n",
       "      <th>Description</th>\n",
       "      <th>Quantity</th>\n",
       "      <th>InvoiceDate</th>\n",
       "      <th>UnitPrice</th>\n",
       "      <th>CustomerID</th>\n",
       "      <th>Country</th>\n",
       "    </tr>\n",
       "  </thead>\n",
       "  <tbody>\n",
       "    <tr>\n",
       "      <th>0</th>\n",
       "      <td>536365</td>\n",
       "      <td>85123A</td>\n",
       "      <td>WHITE HANGING HEART T-LIGHT HOLDER</td>\n",
       "      <td>6</td>\n",
       "      <td>1/12/2010 8:26</td>\n",
       "      <td>2.55</td>\n",
       "      <td>17850.0</td>\n",
       "      <td>United Kingdom</td>\n",
       "    </tr>\n",
       "    <tr>\n",
       "      <th>1</th>\n",
       "      <td>536365</td>\n",
       "      <td>71053</td>\n",
       "      <td>WHITE METAL LANTERN</td>\n",
       "      <td>6</td>\n",
       "      <td>1/12/2010 8:26</td>\n",
       "      <td>3.39</td>\n",
       "      <td>17850.0</td>\n",
       "      <td>United Kingdom</td>\n",
       "    </tr>\n",
       "    <tr>\n",
       "      <th>2</th>\n",
       "      <td>536365</td>\n",
       "      <td>84406B</td>\n",
       "      <td>CREAM CUPID HEARTS COAT HANGER</td>\n",
       "      <td>8</td>\n",
       "      <td>1/12/2010 8:26</td>\n",
       "      <td>2.75</td>\n",
       "      <td>17850.0</td>\n",
       "      <td>United Kingdom</td>\n",
       "    </tr>\n",
       "    <tr>\n",
       "      <th>3</th>\n",
       "      <td>536365</td>\n",
       "      <td>84029G</td>\n",
       "      <td>KNITTED UNION FLAG HOT WATER BOTTLE</td>\n",
       "      <td>6</td>\n",
       "      <td>1/12/2010 8:26</td>\n",
       "      <td>3.39</td>\n",
       "      <td>17850.0</td>\n",
       "      <td>United Kingdom</td>\n",
       "    </tr>\n",
       "    <tr>\n",
       "      <th>4</th>\n",
       "      <td>536365</td>\n",
       "      <td>84029E</td>\n",
       "      <td>RED WOOLLY HOTTIE WHITE HEART.</td>\n",
       "      <td>6</td>\n",
       "      <td>1/12/2010 8:26</td>\n",
       "      <td>3.39</td>\n",
       "      <td>17850.0</td>\n",
       "      <td>United Kingdom</td>\n",
       "    </tr>\n",
       "  </tbody>\n",
       "</table>\n",
       "</div>"
      ],
      "text/plain": [
       "  InvoiceNo StockCode                          Description  Quantity  \\\n",
       "0    536365    85123A   WHITE HANGING HEART T-LIGHT HOLDER         6   \n",
       "1    536365     71053                  WHITE METAL LANTERN         6   \n",
       "2    536365    84406B       CREAM CUPID HEARTS COAT HANGER         8   \n",
       "3    536365    84029G  KNITTED UNION FLAG HOT WATER BOTTLE         6   \n",
       "4    536365    84029E       RED WOOLLY HOTTIE WHITE HEART.         6   \n",
       "\n",
       "      InvoiceDate  UnitPrice  CustomerID         Country  \n",
       "0  1/12/2010 8:26       2.55     17850.0  United Kingdom  \n",
       "1  1/12/2010 8:26       3.39     17850.0  United Kingdom  \n",
       "2  1/12/2010 8:26       2.75     17850.0  United Kingdom  \n",
       "3  1/12/2010 8:26       3.39     17850.0  United Kingdom  \n",
       "4  1/12/2010 8:26       3.39     17850.0  United Kingdom  "
      ]
     },
     "execution_count": 6,
     "metadata": {},
     "output_type": "execute_result"
    }
   ],
   "source": [
    "retail_data = pd.read_csv('Downloads/OnlineRetaildata.csv')\n",
    "retail_data.head()"
   ]
  },
  {
   "cell_type": "code",
   "execution_count": 7,
   "id": "87ff34d0",
   "metadata": {},
   "outputs": [
    {
     "name": "stdout",
     "output_type": "stream",
     "text": [
      "<class 'pandas.core.frame.DataFrame'>\n",
      "RangeIndex: 9999 entries, 0 to 9998\n",
      "Data columns (total 8 columns):\n",
      " #   Column       Non-Null Count  Dtype  \n",
      "---  ------       --------------  -----  \n",
      " 0   InvoiceNo    9999 non-null   object \n",
      " 1   StockCode    9999 non-null   object \n",
      " 2   Description  9957 non-null   object \n",
      " 3   Quantity     9999 non-null   int64  \n",
      " 4   InvoiceDate  9999 non-null   object \n",
      " 5   UnitPrice    9999 non-null   float64\n",
      " 6   CustomerID   7708 non-null   float64\n",
      " 7   Country      9999 non-null   object \n",
      "dtypes: float64(2), int64(1), object(5)\n",
      "memory usage: 625.1+ KB\n"
     ]
    }
   ],
   "source": [
    "retail_data.info()"
   ]
  },
  {
   "cell_type": "code",
   "execution_count": 8,
   "id": "1e1c9e12",
   "metadata": {},
   "outputs": [
    {
     "name": "stdout",
     "output_type": "stream",
     "text": [
      "InvoiceNo\n",
      "Number of Rows: 9999\n",
      "First 5 unique Values in InvoiceNo: ['536365' '536366' '536367' '536368' '536369']\n",
      "Number of Unique Values in InvoiceNo: 512\n",
      "Top 5 Value counts of InvoiceNo: \n",
      "536876    593\n",
      "536592    592\n",
      "536544    527\n",
      "536982    145\n",
      "536865    140\n",
      "Name: InvoiceNo, dtype: int64\n",
      "\n",
      "****************************************************************************************************\n",
      "\n",
      "\n",
      "StockCode\n",
      "Number of Rows: 9999\n",
      "First 5 unique Values in StockCode: ['85123A' '71053' '84406B' '84029G' '84029E']\n",
      "Number of Unique Values in StockCode: 2015\n",
      "Top 5 Value counts of StockCode: \n",
      "22632     63\n",
      "22633     59\n",
      "22866     57\n",
      "22865     57\n",
      "85123A    55\n",
      "Name: StockCode, dtype: int64\n",
      "\n",
      "****************************************************************************************************\n",
      "\n",
      "\n",
      "Description\n",
      "Number of Rows: 9999\n",
      "First 5 unique Values in Description: ['WHITE HANGING HEART T-LIGHT HOLDER' 'WHITE METAL LANTERN'\n",
      " 'CREAM CUPID HEARTS COAT HANGER' 'KNITTED UNION FLAG HOT WATER BOTTLE'\n",
      " 'RED WOOLLY HOTTIE WHITE HEART.']\n",
      "Number of Unique Values in Description: 1981\n",
      "Top 5 Value counts of Description: \n",
      "HAND WARMER UNION JACK                59\n",
      "HAND WARMER OWL DESIGN                57\n",
      "HAND WARMER SCOTTY DOG DESIGN         57\n",
      "WHITE HANGING HEART T-LIGHT HOLDER    56\n",
      "PAPER CHAIN KIT 50'S CHRISTMAS        51\n",
      "Name: Description, dtype: int64\n",
      "\n",
      "****************************************************************************************************\n",
      "\n",
      "\n",
      "Quantity\n",
      "Number of Rows: 9999\n",
      "First 5 unique Values in Quantity: [ 6  8  2 32  3]\n",
      "Number of Unique Values in Quantity: 114\n",
      "Top 5 Value counts of Quantity: \n",
      "1     3418\n",
      "2     1458\n",
      "12    1002\n",
      "6      848\n",
      "3      675\n",
      "Name: Quantity, dtype: int64\n",
      "\n",
      "****************************************************************************************************\n",
      "\n",
      "\n",
      "InvoiceDate\n",
      "Number of Rows: 9999\n",
      "First 5 unique Values in InvoiceDate: ['1/12/2010 8:26' '1/12/2010 8:28' '1/12/2010 8:34' '1/12/2010 8:35'\n",
      " '1/12/2010 8:45']\n",
      "Number of Unique Values in InvoiceDate: 442\n",
      "Top 5 Value counts of InvoiceDate: \n",
      "3/12/2010 11:36    593\n",
      "1/12/2010 17:06    592\n",
      "1/12/2010 14:32    528\n",
      "3/12/2010 14:27    145\n",
      "3/12/2010 11:28    141\n",
      "Name: InvoiceDate, dtype: int64\n",
      "\n",
      "****************************************************************************************************\n",
      "\n",
      "\n",
      "UnitPrice\n",
      "Number of Rows: 9999\n",
      "First 5 unique Values in UnitPrice: [2.55 3.39 2.75 7.65 4.25]\n",
      "Number of Unique Values in UnitPrice: 154\n",
      "Top 5 Value counts of UnitPrice: \n",
      "1.25    940\n",
      "2.95    752\n",
      "0.85    747\n",
      "1.65    657\n",
      "2.10    640\n",
      "Name: UnitPrice, dtype: int64\n",
      "\n",
      "****************************************************************************************************\n",
      "\n",
      "\n",
      "CustomerID\n",
      "Number of Rows: 9999\n",
      "First 5 unique Values in CustomerID: [17850. 13047. 12583. 13748. 15100.]\n",
      "Number of Unique Values in CustomerID: 323\n",
      "Top 5 Value counts of CustomerID: \n",
      "17850.0    297\n",
      "12748.0    133\n",
      "15574.0    121\n",
      "18118.0    118\n",
      "17059.0    117\n",
      "Name: CustomerID, dtype: int64\n",
      "\n",
      "****************************************************************************************************\n",
      "\n",
      "\n",
      "Country\n",
      "Number of Rows: 9999\n",
      "First 5 unique Values in Country: ['United Kingdom' 'France' 'Australia' 'Netherlands' 'Germany']\n",
      "Number of Unique Values in Country: 15\n",
      "Top 5 Value counts of Country: \n",
      "United Kingdom    9402\n",
      "Germany            181\n",
      "EIRE               109\n",
      "France             106\n",
      "Norway              73\n",
      "Name: Country, dtype: int64\n",
      "\n",
      "****************************************************************************************************\n",
      "\n",
      "\n"
     ]
    }
   ],
   "source": [
    "num_unique_vals = []\n",
    "cols = []\n",
    "for col in retail_data.columns:\n",
    "  print(col)\n",
    "  cols.append(col)\n",
    "  print(f\"Number of Rows: {retail_data.shape[0]}\")\n",
    "  print(f\"First 5 unique Values in {col}: {retail_data[col].unique()[:5]}\")\n",
    "  print(f\"Number of Unique Values in {col}: {retail_data[col].nunique()}\")\n",
    "  num_unique_vals.append(retail_data[col].nunique())\n",
    "  print(f\"Top 5 Value counts of {col}: \\n{retail_data[col].value_counts().head()}\")\n",
    "  print()\n",
    "  print(\"*\" * 100)\n",
    "  print('\\n')"
   ]
  },
  {
   "cell_type": "code",
   "execution_count": 9,
   "id": "cec3922a",
   "metadata": {},
   "outputs": [
    {
     "name": "stdout",
     "output_type": "stream",
     "text": [
      "<class 'pandas.core.frame.DataFrame'>\n",
      "RangeIndex: 9999 entries, 0 to 9998\n",
      "Data columns (total 8 columns):\n",
      " #   Column       Non-Null Count  Dtype  \n",
      "---  ------       --------------  -----  \n",
      " 0   InvoiceNo    9999 non-null   object \n",
      " 1   StockCode    9999 non-null   object \n",
      " 2   Description  9957 non-null   object \n",
      " 3   Quantity     9999 non-null   int64  \n",
      " 4   InvoiceDate  9999 non-null   object \n",
      " 5   UnitPrice    9999 non-null   float64\n",
      " 6   CustomerID   7708 non-null   float64\n",
      " 7   Country      9999 non-null   object \n",
      "dtypes: float64(2), int64(1), object(5)\n",
      "memory usage: 625.1+ KB\n"
     ]
    }
   ],
   "source": [
    "retail_data.info()"
   ]
  },
  {
   "cell_type": "code",
   "execution_count": 10,
   "id": "33812d0c",
   "metadata": {},
   "outputs": [
    {
     "data": {
      "text/html": [
       "<style type=\"text/css\">\n",
       "#T_d3b93_row0_col0, #T_d3b93_row0_col1, #T_d3b93_row7_col2 {\n",
       "  background-color: #053061;\n",
       "  color: #f1f1f1;\n",
       "}\n",
       "#T_d3b93_row0_col2 {\n",
       "  background-color: #f9c6ac;\n",
       "  color: #000000;\n",
       "}\n",
       "#T_d3b93_row1_col0, #T_d3b93_row4_col0, #T_d3b93_row5_col0, #T_d3b93_row6_col0 {\n",
       "  background-color: #f8f2ef;\n",
       "  color: #000000;\n",
       "}\n",
       "#T_d3b93_row1_col1, #T_d3b93_row2_col1, #T_d3b93_row2_col2, #T_d3b93_row3_col0, #T_d3b93_row3_col1, #T_d3b93_row4_col1, #T_d3b93_row5_col1, #T_d3b93_row6_col1 {\n",
       "  background-color: #67001f;\n",
       "  color: #f1f1f1;\n",
       "}\n",
       "#T_d3b93_row1_col2, #T_d3b93_row5_col2 {\n",
       "  background-color: #3480b9;\n",
       "  color: #f1f1f1;\n",
       "}\n",
       "#T_d3b93_row2_col0 {\n",
       "  background-color: #f8f4f2;\n",
       "  color: #000000;\n",
       "}\n",
       "#T_d3b93_row3_col2 {\n",
       "  background-color: #b3d6e8;\n",
       "  color: #000000;\n",
       "}\n",
       "#T_d3b93_row4_col2 {\n",
       "  background-color: #5ca3cb;\n",
       "  color: #f1f1f1;\n",
       "}\n",
       "#T_d3b93_row6_col2 {\n",
       "  background-color: #15508d;\n",
       "  color: #f1f1f1;\n",
       "}\n",
       "#T_d3b93_row7_col0 {\n",
       "  background-color: #bddbea;\n",
       "  color: #000000;\n",
       "}\n",
       "#T_d3b93_row7_col1 {\n",
       "  background-color: #a81529;\n",
       "  color: #f1f1f1;\n",
       "}\n",
       "</style>\n",
       "<table id=\"T_d3b93_\">\n",
       "  <thead>\n",
       "    <tr>\n",
       "      <th class=\"blank level0\" >&nbsp;</th>\n",
       "      <th class=\"col_heading level0 col0\" >Quantity</th>\n",
       "      <th class=\"col_heading level0 col1\" >UnitPrice</th>\n",
       "      <th class=\"col_heading level0 col2\" >CustomerID</th>\n",
       "    </tr>\n",
       "  </thead>\n",
       "  <tbody>\n",
       "    <tr>\n",
       "      <th id=\"T_d3b93_level0_row0\" class=\"row_heading level0 row0\" >count</th>\n",
       "      <td id=\"T_d3b93_row0_col0\" class=\"data row0 col0\" >9999.000000</td>\n",
       "      <td id=\"T_d3b93_row0_col1\" class=\"data row0 col1\" >9999.000000</td>\n",
       "      <td id=\"T_d3b93_row0_col2\" class=\"data row0 col2\" >7708.000000</td>\n",
       "    </tr>\n",
       "    <tr>\n",
       "      <th id=\"T_d3b93_level0_row1\" class=\"row_heading level0 row1\" >mean</th>\n",
       "      <td id=\"T_d3b93_row1_col0\" class=\"data row1 col0\" >7.829183</td>\n",
       "      <td id=\"T_d3b93_row1_col1\" class=\"data row1 col1\" >3.837371</td>\n",
       "      <td id=\"T_d3b93_row1_col2\" class=\"data row1 col2\" >15615.779320</td>\n",
       "    </tr>\n",
       "    <tr>\n",
       "      <th id=\"T_d3b93_level0_row2\" class=\"row_heading level0 row2\" >std</th>\n",
       "      <td id=\"T_d3b93_row2_col0\" class=\"data row2 col0\" >104.327618</td>\n",
       "      <td id=\"T_d3b93_row2_col1\" class=\"data row2 col1\" >14.310863</td>\n",
       "      <td id=\"T_d3b93_row2_col2\" class=\"data row2 col2\" >1756.434574</td>\n",
       "    </tr>\n",
       "    <tr>\n",
       "      <th id=\"T_d3b93_level0_row3\" class=\"row_heading level0 row3\" >min</th>\n",
       "      <td id=\"T_d3b93_row3_col0\" class=\"data row3 col0\" >-9360.000000</td>\n",
       "      <td id=\"T_d3b93_row3_col1\" class=\"data row3 col1\" >0.000000</td>\n",
       "      <td id=\"T_d3b93_row3_col2\" class=\"data row3 col2\" >12395.000000</td>\n",
       "    </tr>\n",
       "    <tr>\n",
       "      <th id=\"T_d3b93_level0_row4\" class=\"row_heading level0 row4\" >25%</th>\n",
       "      <td id=\"T_d3b93_row4_col0\" class=\"data row4 col0\" >1.000000</td>\n",
       "      <td id=\"T_d3b93_row4_col1\" class=\"data row4 col1\" >1.250000</td>\n",
       "      <td id=\"T_d3b93_row4_col2\" class=\"data row4 col2\" >14388.000000</td>\n",
       "    </tr>\n",
       "    <tr>\n",
       "      <th id=\"T_d3b93_level0_row5\" class=\"row_heading level0 row5\" >50%</th>\n",
       "      <td id=\"T_d3b93_row5_col0\" class=\"data row5 col0\" >2.000000</td>\n",
       "      <td id=\"T_d3b93_row5_col1\" class=\"data row5 col1\" >2.510000</td>\n",
       "      <td id=\"T_d3b93_row5_col2\" class=\"data row5 col2\" >15605.000000</td>\n",
       "    </tr>\n",
       "    <tr>\n",
       "      <th id=\"T_d3b93_level0_row6\" class=\"row_heading level0 row6\" >75%</th>\n",
       "      <td id=\"T_d3b93_row6_col0\" class=\"data row6 col0\" >8.000000</td>\n",
       "      <td id=\"T_d3b93_row6_col1\" class=\"data row6 col1\" >4.210000</td>\n",
       "      <td id=\"T_d3b93_row6_col2\" class=\"data row6 col2\" >17228.000000</td>\n",
       "    </tr>\n",
       "    <tr>\n",
       "      <th id=\"T_d3b93_level0_row7\" class=\"row_heading level0 row7\" >max</th>\n",
       "      <td id=\"T_d3b93_row7_col0\" class=\"data row7 col0\" >2880.000000</td>\n",
       "      <td id=\"T_d3b93_row7_col1\" class=\"data row7 col1\" >887.520000</td>\n",
       "      <td id=\"T_d3b93_row7_col2\" class=\"data row7 col2\" >18239.000000</td>\n",
       "    </tr>\n",
       "  </tbody>\n",
       "</table>\n"
      ],
      "text/plain": [
       "<pandas.io.formats.style.Styler at 0x1a78452db80>"
      ]
     },
     "execution_count": 10,
     "metadata": {},
     "output_type": "execute_result"
    }
   ],
   "source": [
    "retail_data.describe().style.background_gradient('RdBu')"
   ]
  },
  {
   "cell_type": "code",
   "execution_count": 11,
   "id": "c61d90d9",
   "metadata": {},
   "outputs": [
    {
     "data": {
      "image/png": "[encoded data removed]",
      "text/plain": [
       "<Figure size 864x432 with 1 Axes>"
      ]
     },
     "metadata": {},
     "output_type": "display_data"
    }
   ],
   "source": [
    "missing_retail_data = retail_data.isnull().sum().to_frame().reset_index().rename({0: 'missing_val_%'}, axis = 1)\n",
    "plt.figure(figsize = (12,6))\n",
    "sns.barplot(data = missing_retail_data, x = 'missing_val_%', y = 'index',palette='gist_heat_r', alpha = 1)\n",
    "plt.title('Missing Values frequency', fontsize = 20, fontweight = 'bold', color = 'navy')\n",
    "plt.xlabel(' ')\n",
    "plt.ylabel(' ')\n",
    "plt.xticks( fontsize = 15, fontweight = 'bold', color = 'maroon')\n",
    "plt.yticks(fontsize = 15, fontweight = 'bold', color = 'maroon')\n",
    "plt.show();"
   ]
  },
  {
   "cell_type": "code",
   "execution_count": 12,
   "id": "4ed835d3",
   "metadata": {},
   "outputs": [
    {
     "data": {
      "text/html": [
       "<style type=\"text/css\">\n",
       "#T_d171e_row0_col0, #T_d171e_row1_col0, #T_d171e_row3_col0, #T_d171e_row4_col0, #T_d171e_row5_col0, #T_d171e_row7_col0 {\n",
       "  background-color: #ffffe5;\n",
       "  color: #000000;\n",
       "}\n",
       "#T_d171e_row2_col0 {\n",
       "  background-color: #fffee0;\n",
       "  color: #000000;\n",
       "}\n",
       "#T_d171e_row6_col0 {\n",
       "  background-color: #662506;\n",
       "  color: #f1f1f1;\n",
       "}\n",
       "</style>\n",
       "<table id=\"T_d171e_\">\n",
       "  <thead>\n",
       "    <tr>\n",
       "      <th class=\"blank level0\" >&nbsp;</th>\n",
       "      <th class=\"col_heading level0 col0\" >missing_val_freq</th>\n",
       "    </tr>\n",
       "  </thead>\n",
       "  <tbody>\n",
       "    <tr>\n",
       "      <th id=\"T_d171e_level0_row0\" class=\"row_heading level0 row0\" >InvoiceNo</th>\n",
       "      <td id=\"T_d171e_row0_col0\" class=\"data row0 col0\" >0</td>\n",
       "    </tr>\n",
       "    <tr>\n",
       "      <th id=\"T_d171e_level0_row1\" class=\"row_heading level0 row1\" >StockCode</th>\n",
       "      <td id=\"T_d171e_row1_col0\" class=\"data row1 col0\" >0</td>\n",
       "    </tr>\n",
       "    <tr>\n",
       "      <th id=\"T_d171e_level0_row2\" class=\"row_heading level0 row2\" >Description</th>\n",
       "      <td id=\"T_d171e_row2_col0\" class=\"data row2 col0\" >42</td>\n",
       "    </tr>\n",
       "    <tr>\n",
       "      <th id=\"T_d171e_level0_row3\" class=\"row_heading level0 row3\" >Quantity</th>\n",
       "      <td id=\"T_d171e_row3_col0\" class=\"data row3 col0\" >0</td>\n",
       "    </tr>\n",
       "    <tr>\n",
       "      <th id=\"T_d171e_level0_row4\" class=\"row_heading level0 row4\" >InvoiceDate</th>\n",
       "      <td id=\"T_d171e_row4_col0\" class=\"data row4 col0\" >0</td>\n",
       "    </tr>\n",
       "    <tr>\n",
       "      <th id=\"T_d171e_level0_row5\" class=\"row_heading level0 row5\" >UnitPrice</th>\n",
       "      <td id=\"T_d171e_row5_col0\" class=\"data row5 col0\" >0</td>\n",
       "    </tr>\n",
       "    <tr>\n",
       "      <th id=\"T_d171e_level0_row6\" class=\"row_heading level0 row6\" >CustomerID</th>\n",
       "      <td id=\"T_d171e_row6_col0\" class=\"data row6 col0\" >2291</td>\n",
       "    </tr>\n",
       "    <tr>\n",
       "      <th id=\"T_d171e_level0_row7\" class=\"row_heading level0 row7\" >Country</th>\n",
       "      <td id=\"T_d171e_row7_col0\" class=\"data row7 col0\" >0</td>\n",
       "    </tr>\n",
       "  </tbody>\n",
       "</table>\n"
      ],
      "text/plain": [
       "<pandas.io.formats.style.Styler at 0x1a784683d90>"
      ]
     },
     "execution_count": 12,
     "metadata": {},
     "output_type": "execute_result"
    }
   ],
   "source": [
    "retail_data.isnull().sum().to_frame().rename({0: 'missing_val_freq'}, axis = 1).style.background_gradient('YlOrBr')"
   ]
  },
  {
   "cell_type": "code",
   "execution_count": 13,
   "id": "0d1080b7",
   "metadata": {},
   "outputs": [
    {
     "data": {
      "text/plain": [
       "17850.0"
      ]
     },
     "execution_count": 13,
     "metadata": {},
     "output_type": "execute_result"
    }
   ],
   "source": [
    "(retail_data['CustomerID'].mode()[0])"
   ]
  },
  {
   "cell_type": "code",
   "execution_count": 14,
   "id": "8f01d059",
   "metadata": {},
   "outputs": [],
   "source": [
    "retail_data['Description'].replace(np.nan, 'Description Missing', inplace =True)"
   ]
  },
  {
   "cell_type": "code",
   "execution_count": 15,
   "id": "9fd44c6b",
   "metadata": {},
   "outputs": [
    {
     "data": {
      "text/html": [
       "<div>\n",
       "<style scoped>\n",
       "    .dataframe tbody tr th:only-of-type {\n",
       "        vertical-align: middle;\n",
       "    }\n",
       "\n",
       "    .dataframe tbody tr th {\n",
       "        vertical-align: top;\n",
       "    }\n",
       "\n",
       "    .dataframe thead th {\n",
       "        text-align: right;\n",
       "    }\n",
       "</style>\n",
       "<table border=\"1\" class=\"dataframe\">\n",
       "  <thead>\n",
       "    <tr style=\"text-align: right;\">\n",
       "      <th></th>\n",
       "      <th>InvoiceNo</th>\n",
       "      <th>StockCode</th>\n",
       "      <th>Description</th>\n",
       "      <th>Quantity</th>\n",
       "      <th>InvoiceDate</th>\n",
       "      <th>UnitPrice</th>\n",
       "      <th>CustomerID</th>\n",
       "      <th>Country</th>\n",
       "      <th>InvoiceMonth</th>\n",
       "    </tr>\n",
       "  </thead>\n",
       "  <tbody>\n",
       "    <tr>\n",
       "      <th>0</th>\n",
       "      <td>536365</td>\n",
       "      <td>85123A</td>\n",
       "      <td>WHITE HANGING HEART T-LIGHT HOLDER</td>\n",
       "      <td>6</td>\n",
       "      <td>2010-01-12 08:26:00</td>\n",
       "      <td>2.55</td>\n",
       "      <td>17850</td>\n",
       "      <td>United Kingdom</td>\n",
       "      <td>1</td>\n",
       "    </tr>\n",
       "    <tr>\n",
       "      <th>1</th>\n",
       "      <td>536365</td>\n",
       "      <td>71053</td>\n",
       "      <td>WHITE METAL LANTERN</td>\n",
       "      <td>6</td>\n",
       "      <td>2010-01-12 08:26:00</td>\n",
       "      <td>3.39</td>\n",
       "      <td>17850</td>\n",
       "      <td>United Kingdom</td>\n",
       "      <td>1</td>\n",
       "    </tr>\n",
       "    <tr>\n",
       "      <th>2</th>\n",
       "      <td>536365</td>\n",
       "      <td>84406B</td>\n",
       "      <td>CREAM CUPID HEARTS COAT HANGER</td>\n",
       "      <td>8</td>\n",
       "      <td>2010-01-12 08:26:00</td>\n",
       "      <td>2.75</td>\n",
       "      <td>17850</td>\n",
       "      <td>United Kingdom</td>\n",
       "      <td>1</td>\n",
       "    </tr>\n",
       "    <tr>\n",
       "      <th>3</th>\n",
       "      <td>536365</td>\n",
       "      <td>84029G</td>\n",
       "      <td>KNITTED UNION FLAG HOT WATER BOTTLE</td>\n",
       "      <td>6</td>\n",
       "      <td>2010-01-12 08:26:00</td>\n",
       "      <td>3.39</td>\n",
       "      <td>17850</td>\n",
       "      <td>United Kingdom</td>\n",
       "      <td>1</td>\n",
       "    </tr>\n",
       "    <tr>\n",
       "      <th>4</th>\n",
       "      <td>536365</td>\n",
       "      <td>84029E</td>\n",
       "      <td>RED WOOLLY HOTTIE WHITE HEART.</td>\n",
       "      <td>6</td>\n",
       "      <td>2010-01-12 08:26:00</td>\n",
       "      <td>3.39</td>\n",
       "      <td>17850</td>\n",
       "      <td>United Kingdom</td>\n",
       "      <td>1</td>\n",
       "    </tr>\n",
       "  </tbody>\n",
       "</table>\n",
       "</div>"
      ],
      "text/plain": [
       "  InvoiceNo StockCode                          Description  Quantity  \\\n",
       "0    536365    85123A   WHITE HANGING HEART T-LIGHT HOLDER         6   \n",
       "1    536365     71053                  WHITE METAL LANTERN         6   \n",
       "2    536365    84406B       CREAM CUPID HEARTS COAT HANGER         8   \n",
       "3    536365    84029G  KNITTED UNION FLAG HOT WATER BOTTLE         6   \n",
       "4    536365    84029E       RED WOOLLY HOTTIE WHITE HEART.         6   \n",
       "\n",
       "          InvoiceDate  UnitPrice CustomerID         Country  InvoiceMonth  \n",
       "0 2010-01-12 08:26:00       2.55      17850  United Kingdom             1  \n",
       "1 2010-01-12 08:26:00       3.39      17850  United Kingdom             1  \n",
       "2 2010-01-12 08:26:00       2.75      17850  United Kingdom             1  \n",
       "3 2010-01-12 08:26:00       3.39      17850  United Kingdom             1  \n",
       "4 2010-01-12 08:26:00       3.39      17850  United Kingdom             1  "
      ]
     },
     "execution_count": 15,
     "metadata": {},
     "output_type": "execute_result"
    }
   ],
   "source": [
    "retail_data['InvoiceDate'] = pd.to_datetime(retail_data['InvoiceDate'])\n",
    "retail_data['CustomerID'] = retail_data['CustomerID'].replace(np.nan, 0).astype(int).astype(str).replace('0', '-99')\n",
    "retail_data['InvoiceMonth'] = pd.to_datetime(retail_data['InvoiceDate']).dt.month\n",
    "# retail_data['InvoiceYear'] = pd.to_datetime(retail_data['InvoiceDate']).dt.year\n",
    "retail_data.head()"
   ]
  },
  {
   "cell_type": "code",
   "execution_count": 16,
   "id": "e9a2d3d0",
   "metadata": {},
   "outputs": [
    {
     "data": {
      "text/html": [
       "<style type=\"text/css\">\n",
       "#T_65eca_row0_col3, #T_65eca_row0_col5, #T_65eca_row0_col8 {\n",
       "  background-color: #053061;\n",
       "  color: #f1f1f1;\n",
       "}\n",
       "#T_65eca_row1_col3, #T_65eca_row2_col3, #T_65eca_row3_col3, #T_65eca_row4_col3, #T_65eca_row6_col3, #T_65eca_row7_col3, #T_65eca_row8_col3 {\n",
       "  background-color: #f8f2ef;\n",
       "  color: #000000;\n",
       "}\n",
       "#T_65eca_row1_col5, #T_65eca_row1_col8, #T_65eca_row2_col5, #T_65eca_row2_col8, #T_65eca_row3_col5, #T_65eca_row3_col8, #T_65eca_row4_col5, #T_65eca_row4_col8, #T_65eca_row5_col3, #T_65eca_row5_col5, #T_65eca_row5_col8, #T_65eca_row6_col5, #T_65eca_row6_col8, #T_65eca_row7_col5, #T_65eca_row7_col8, #T_65eca_row8_col5, #T_65eca_row8_col8, #T_65eca_row9_col8, #T_65eca_row10_col5, #T_65eca_row10_col8 {\n",
       "  background-color: #67001f;\n",
       "  color: #f1f1f1;\n",
       "}\n",
       "#T_65eca_row9_col3 {\n",
       "  background-color: #bddbea;\n",
       "  color: #000000;\n",
       "}\n",
       "#T_65eca_row9_col5 {\n",
       "  background-color: #a81529;\n",
       "  color: #f1f1f1;\n",
       "}\n",
       "#T_65eca_row10_col3 {\n",
       "  background-color: #f8f4f2;\n",
       "  color: #000000;\n",
       "}\n",
       "</style>\n",
       "<table id=\"T_65eca_\">\n",
       "  <thead>\n",
       "    <tr>\n",
       "      <th class=\"blank level0\" >&nbsp;</th>\n",
       "      <th class=\"col_heading level0 col0\" >InvoiceNo</th>\n",
       "      <th class=\"col_heading level0 col1\" >StockCode</th>\n",
       "      <th class=\"col_heading level0 col2\" >Description</th>\n",
       "      <th class=\"col_heading level0 col3\" >Quantity</th>\n",
       "      <th class=\"col_heading level0 col4\" >InvoiceDate</th>\n",
       "      <th class=\"col_heading level0 col5\" >UnitPrice</th>\n",
       "      <th class=\"col_heading level0 col6\" >CustomerID</th>\n",
       "      <th class=\"col_heading level0 col7\" >Country</th>\n",
       "      <th class=\"col_heading level0 col8\" >InvoiceMonth</th>\n",
       "    </tr>\n",
       "  </thead>\n",
       "  <tbody>\n",
       "    <tr>\n",
       "      <th id=\"T_65eca_level0_row0\" class=\"row_heading level0 row0\" >count</th>\n",
       "      <td id=\"T_65eca_row0_col0\" class=\"data row0 col0\" >9999</td>\n",
       "      <td id=\"T_65eca_row0_col1\" class=\"data row0 col1\" >9999</td>\n",
       "      <td id=\"T_65eca_row0_col2\" class=\"data row0 col2\" >9999</td>\n",
       "      <td id=\"T_65eca_row0_col3\" class=\"data row0 col3\" >9999.000000</td>\n",
       "      <td id=\"T_65eca_row0_col4\" class=\"data row0 col4\" >9999</td>\n",
       "      <td id=\"T_65eca_row0_col5\" class=\"data row0 col5\" >9999.000000</td>\n",
       "      <td id=\"T_65eca_row0_col6\" class=\"data row0 col6\" >9999</td>\n",
       "      <td id=\"T_65eca_row0_col7\" class=\"data row0 col7\" >9999</td>\n",
       "      <td id=\"T_65eca_row0_col8\" class=\"data row0 col8\" >9999.000000</td>\n",
       "    </tr>\n",
       "    <tr>\n",
       "      <th id=\"T_65eca_level0_row1\" class=\"row_heading level0 row1\" >unique</th>\n",
       "      <td id=\"T_65eca_row1_col0\" class=\"data row1 col0\" >512</td>\n",
       "      <td id=\"T_65eca_row1_col1\" class=\"data row1 col1\" >2015</td>\n",
       "      <td id=\"T_65eca_row1_col2\" class=\"data row1 col2\" >1982</td>\n",
       "      <td id=\"T_65eca_row1_col3\" class=\"data row1 col3\" >0.000000</td>\n",
       "      <td id=\"T_65eca_row1_col4\" class=\"data row1 col4\" >0</td>\n",
       "      <td id=\"T_65eca_row1_col5\" class=\"data row1 col5\" >0.000000</td>\n",
       "      <td id=\"T_65eca_row1_col6\" class=\"data row1 col6\" >324</td>\n",
       "      <td id=\"T_65eca_row1_col7\" class=\"data row1 col7\" >15</td>\n",
       "      <td id=\"T_65eca_row1_col8\" class=\"data row1 col8\" >0.000000</td>\n",
       "    </tr>\n",
       "    <tr>\n",
       "      <th id=\"T_65eca_level0_row2\" class=\"row_heading level0 row2\" >top</th>\n",
       "      <td id=\"T_65eca_row2_col0\" class=\"data row2 col0\" >536876</td>\n",
       "      <td id=\"T_65eca_row2_col1\" class=\"data row2 col1\" >22632</td>\n",
       "      <td id=\"T_65eca_row2_col2\" class=\"data row2 col2\" >HAND WARMER UNION JACK</td>\n",
       "      <td id=\"T_65eca_row2_col3\" class=\"data row2 col3\" >0.000000</td>\n",
       "      <td id=\"T_65eca_row2_col4\" class=\"data row2 col4\" >0</td>\n",
       "      <td id=\"T_65eca_row2_col5\" class=\"data row2 col5\" >0.000000</td>\n",
       "      <td id=\"T_65eca_row2_col6\" class=\"data row2 col6\" >-99</td>\n",
       "      <td id=\"T_65eca_row2_col7\" class=\"data row2 col7\" >United Kingdom</td>\n",
       "      <td id=\"T_65eca_row2_col8\" class=\"data row2 col8\" >0.000000</td>\n",
       "    </tr>\n",
       "    <tr>\n",
       "      <th id=\"T_65eca_level0_row3\" class=\"row_heading level0 row3\" >freq</th>\n",
       "      <td id=\"T_65eca_row3_col0\" class=\"data row3 col0\" >593</td>\n",
       "      <td id=\"T_65eca_row3_col1\" class=\"data row3 col1\" >63</td>\n",
       "      <td id=\"T_65eca_row3_col2\" class=\"data row3 col2\" >59</td>\n",
       "      <td id=\"T_65eca_row3_col3\" class=\"data row3 col3\" >0.000000</td>\n",
       "      <td id=\"T_65eca_row3_col4\" class=\"data row3 col4\" >0</td>\n",
       "      <td id=\"T_65eca_row3_col5\" class=\"data row3 col5\" >0.000000</td>\n",
       "      <td id=\"T_65eca_row3_col6\" class=\"data row3 col6\" >2291</td>\n",
       "      <td id=\"T_65eca_row3_col7\" class=\"data row3 col7\" >9402</td>\n",
       "      <td id=\"T_65eca_row3_col8\" class=\"data row3 col8\" >0.000000</td>\n",
       "    </tr>\n",
       "    <tr>\n",
       "      <th id=\"T_65eca_level0_row4\" class=\"row_heading level0 row4\" >mean</th>\n",
       "      <td id=\"T_65eca_row4_col0\" class=\"data row4 col0\" >0</td>\n",
       "      <td id=\"T_65eca_row4_col1\" class=\"data row4 col1\" >0</td>\n",
       "      <td id=\"T_65eca_row4_col2\" class=\"data row4 col2\" >0</td>\n",
       "      <td id=\"T_65eca_row4_col3\" class=\"data row4 col3\" >7.829183</td>\n",
       "      <td id=\"T_65eca_row4_col4\" class=\"data row4 col4\" >2010-03-04 01:26:20.000000256</td>\n",
       "      <td id=\"T_65eca_row4_col5\" class=\"data row4 col5\" >3.837371</td>\n",
       "      <td id=\"T_65eca_row4_col6\" class=\"data row4 col6\" >0</td>\n",
       "      <td id=\"T_65eca_row4_col7\" class=\"data row4 col7\" >0</td>\n",
       "      <td id=\"T_65eca_row4_col8\" class=\"data row4 col8\" >2.683468</td>\n",
       "    </tr>\n",
       "    <tr>\n",
       "      <th id=\"T_65eca_level0_row5\" class=\"row_heading level0 row5\" >min</th>\n",
       "      <td id=\"T_65eca_row5_col0\" class=\"data row5 col0\" >0</td>\n",
       "      <td id=\"T_65eca_row5_col1\" class=\"data row5 col1\" >0</td>\n",
       "      <td id=\"T_65eca_row5_col2\" class=\"data row5 col2\" >0</td>\n",
       "      <td id=\"T_65eca_row5_col3\" class=\"data row5 col3\" >-9360.000000</td>\n",
       "      <td id=\"T_65eca_row5_col4\" class=\"data row5 col4\" >2010-01-12 08:26:00</td>\n",
       "      <td id=\"T_65eca_row5_col5\" class=\"data row5 col5\" >0.000000</td>\n",
       "      <td id=\"T_65eca_row5_col6\" class=\"data row5 col6\" >0</td>\n",
       "      <td id=\"T_65eca_row5_col7\" class=\"data row5 col7\" >0</td>\n",
       "      <td id=\"T_65eca_row5_col8\" class=\"data row5 col8\" >1.000000</td>\n",
       "    </tr>\n",
       "    <tr>\n",
       "      <th id=\"T_65eca_level0_row6\" class=\"row_heading level0 row6\" >25%</th>\n",
       "      <td id=\"T_65eca_row6_col0\" class=\"data row6 col0\" >0</td>\n",
       "      <td id=\"T_65eca_row6_col1\" class=\"data row6 col1\" >0</td>\n",
       "      <td id=\"T_65eca_row6_col2\" class=\"data row6 col2\" >0</td>\n",
       "      <td id=\"T_65eca_row6_col3\" class=\"data row6 col3\" >1.000000</td>\n",
       "      <td id=\"T_65eca_row6_col4\" class=\"data row6 col4\" >2010-01-12 17:06:00</td>\n",
       "      <td id=\"T_65eca_row6_col5\" class=\"data row6 col5\" >1.250000</td>\n",
       "      <td id=\"T_65eca_row6_col6\" class=\"data row6 col6\" >0</td>\n",
       "      <td id=\"T_65eca_row6_col7\" class=\"data row6 col7\" >0</td>\n",
       "      <td id=\"T_65eca_row6_col8\" class=\"data row6 col8\" >1.000000</td>\n",
       "    </tr>\n",
       "    <tr>\n",
       "      <th id=\"T_65eca_level0_row7\" class=\"row_heading level0 row7\" >50%</th>\n",
       "      <td id=\"T_65eca_row7_col0\" class=\"data row7 col0\" >0</td>\n",
       "      <td id=\"T_65eca_row7_col1\" class=\"data row7 col1\" >0</td>\n",
       "      <td id=\"T_65eca_row7_col2\" class=\"data row7 col2\" >0</td>\n",
       "      <td id=\"T_65eca_row7_col3\" class=\"data row7 col3\" >2.000000</td>\n",
       "      <td id=\"T_65eca_row7_col4\" class=\"data row7 col4\" >2010-02-12 18:08:00</td>\n",
       "      <td id=\"T_65eca_row7_col5\" class=\"data row7 col5\" >2.510000</td>\n",
       "      <td id=\"T_65eca_row7_col6\" class=\"data row7 col6\" >0</td>\n",
       "      <td id=\"T_65eca_row7_col7\" class=\"data row7 col7\" >0</td>\n",
       "      <td id=\"T_65eca_row7_col8\" class=\"data row7 col8\" >2.000000</td>\n",
       "    </tr>\n",
       "    <tr>\n",
       "      <th id=\"T_65eca_level0_row8\" class=\"row_heading level0 row8\" >75%</th>\n",
       "      <td id=\"T_65eca_row8_col0\" class=\"data row8 col0\" >0</td>\n",
       "      <td id=\"T_65eca_row8_col1\" class=\"data row8 col1\" >0</td>\n",
       "      <td id=\"T_65eca_row8_col2\" class=\"data row8 col2\" >0</td>\n",
       "      <td id=\"T_65eca_row8_col3\" class=\"data row8 col3\" >8.000000</td>\n",
       "      <td id=\"T_65eca_row8_col4\" class=\"data row8 col4\" >2010-05-12 10:45:00</td>\n",
       "      <td id=\"T_65eca_row8_col5\" class=\"data row8 col5\" >4.210000</td>\n",
       "      <td id=\"T_65eca_row8_col6\" class=\"data row8 col6\" >0</td>\n",
       "      <td id=\"T_65eca_row8_col7\" class=\"data row8 col7\" >0</td>\n",
       "      <td id=\"T_65eca_row8_col8\" class=\"data row8 col8\" >5.000000</td>\n",
       "    </tr>\n",
       "    <tr>\n",
       "      <th id=\"T_65eca_level0_row9\" class=\"row_heading level0 row9\" >max</th>\n",
       "      <td id=\"T_65eca_row9_col0\" class=\"data row9 col0\" >0</td>\n",
       "      <td id=\"T_65eca_row9_col1\" class=\"data row9 col1\" >0</td>\n",
       "      <td id=\"T_65eca_row9_col2\" class=\"data row9 col2\" >0</td>\n",
       "      <td id=\"T_65eca_row9_col3\" class=\"data row9 col3\" >2880.000000</td>\n",
       "      <td id=\"T_65eca_row9_col4\" class=\"data row9 col4\" >2010-05-12 16:24:00</td>\n",
       "      <td id=\"T_65eca_row9_col5\" class=\"data row9 col5\" >887.520000</td>\n",
       "      <td id=\"T_65eca_row9_col6\" class=\"data row9 col6\" >0</td>\n",
       "      <td id=\"T_65eca_row9_col7\" class=\"data row9 col7\" >0</td>\n",
       "      <td id=\"T_65eca_row9_col8\" class=\"data row9 col8\" >5.000000</td>\n",
       "    </tr>\n",
       "    <tr>\n",
       "      <th id=\"T_65eca_level0_row10\" class=\"row_heading level0 row10\" >std</th>\n",
       "      <td id=\"T_65eca_row10_col0\" class=\"data row10 col0\" >0</td>\n",
       "      <td id=\"T_65eca_row10_col1\" class=\"data row10 col1\" >0</td>\n",
       "      <td id=\"T_65eca_row10_col2\" class=\"data row10 col2\" >0</td>\n",
       "      <td id=\"T_65eca_row10_col3\" class=\"data row10 col3\" >104.327618</td>\n",
       "      <td id=\"T_65eca_row10_col4\" class=\"data row10 col4\" >0</td>\n",
       "      <td id=\"T_65eca_row10_col5\" class=\"data row10 col5\" >14.310863</td>\n",
       "      <td id=\"T_65eca_row10_col6\" class=\"data row10 col6\" >0</td>\n",
       "      <td id=\"T_65eca_row10_col7\" class=\"data row10 col7\" >0</td>\n",
       "      <td id=\"T_65eca_row10_col8\" class=\"data row10 col8\" >1.544796</td>\n",
       "    </tr>\n",
       "  </tbody>\n",
       "</table>\n"
      ],
      "text/plain": [
       "<pandas.io.formats.style.Styler at 0x1a784796610>"
      ]
     },
     "execution_count": 16,
     "metadata": {},
     "output_type": "execute_result"
    }
   ],
   "source": [
    "retail_data.describe(include = 'all', datetime_is_numeric=True).fillna(0).style.background_gradient('RdBu')"
   ]
  },
  {
   "cell_type": "code",
   "execution_count": 17,
   "id": "f09ecb88",
   "metadata": {},
   "outputs": [
    {
     "name": "stdout",
     "output_type": "stream",
     "text": [
      "<class 'pandas.core.frame.DataFrame'>\n",
      "RangeIndex: 9999 entries, 0 to 9998\n",
      "Data columns (total 9 columns):\n",
      " #   Column        Non-Null Count  Dtype         \n",
      "---  ------        --------------  -----         \n",
      " 0   InvoiceNo     9999 non-null   object        \n",
      " 1   StockCode     9999 non-null   object        \n",
      " 2   Description   9999 non-null   object        \n",
      " 3   Quantity      9999 non-null   int64         \n",
      " 4   InvoiceDate   9999 non-null   datetime64[ns]\n",
      " 5   UnitPrice     9999 non-null   float64       \n",
      " 6   CustomerID    9999 non-null   object        \n",
      " 7   Country       9999 non-null   object        \n",
      " 8   InvoiceMonth  9999 non-null   int64         \n",
      "dtypes: datetime64[ns](1), float64(1), int64(2), object(5)\n",
      "memory usage: 703.2+ KB\n"
     ]
    }
   ],
   "source": [
    "retail_data.info()"
   ]
  },
  {
   "cell_type": "code",
   "execution_count": 18,
   "id": "afaaa711",
   "metadata": {},
   "outputs": [
    {
     "name": "stdout",
     "output_type": "stream",
     "text": [
      "['InvoiceNo', 'StockCode', 'Description', 'CustomerID', 'Country']\n",
      "['Quantity', 'UnitPrice', 'InvoiceMonth']\n",
      "['InvoiceDate']\n"
     ]
    }
   ],
   "source": [
    "categorical = [col for col in retail_data.columns if retail_data[col].dtype == 'object']\n",
    "numerical = [col for col in retail_data.columns if col not in (categorical +['InvoiceDate'])]\n",
    "datetime_col = [col for col in retail_data.columns if col not in (categorical + numerical) ]\n",
    "\n",
    "print(categorical)\n",
    "print(numerical)\n",
    "print(datetime_col)"
   ]
  },
  {
   "cell_type": "code",
   "execution_count": 19,
   "id": "72c102da",
   "metadata": {},
   "outputs": [
    {
     "name": "stderr",
     "output_type": "stream",
     "text": [
      "C:\\Users\\Asazad\\anaconda3\\lib\\site-packages\\seaborn\\distributions.py:2619: FutureWarning: `distplot` is a deprecated function and will be removed in a future version. Please adapt your code to use either `displot` (a figure-level function with similar flexibility) or `histplot` (an axes-level function for histograms).\n",
      "  warnings.warn(msg, FutureWarning)\n",
      "C:\\Users\\Asazad\\anaconda3\\lib\\site-packages\\seaborn\\distributions.py:2619: FutureWarning: `distplot` is a deprecated function and will be removed in a future version. Please adapt your code to use either `displot` (a figure-level function with similar flexibility) or `histplot` (an axes-level function for histograms).\n",
      "  warnings.warn(msg, FutureWarning)\n",
      "C:\\Users\\Asazad\\anaconda3\\lib\\site-packages\\seaborn\\distributions.py:2619: FutureWarning: `distplot` is a deprecated function and will be removed in a future version. Please adapt your code to use either `displot` (a figure-level function with similar flexibility) or `histplot` (an axes-level function for histograms).\n",
      "  warnings.warn(msg, FutureWarning)\n"
     ]
    },
    {
     "data": {
      "image/png": "[encoded data removed]",
      "text/plain": [
       "<Figure size 1152x720 with 3 Axes>"
      ]
     },
     "metadata": {},
     "output_type": "display_data"
    }
   ],
   "source": [
    "plt.figure(figsize = (16,10))\n",
    "\n",
    "for i,col in enumerate(retail_data[numerical]):\n",
    "  plt.subplot(2,2,i+1)\n",
    "  sns.distplot(x = retail_data[col], color = 'maroon')\n",
    "  plt.xticks(rotation = 0)\n",
    "  plt.title(col, fontsize = 15, fontweight = 'bold', color = '#bd0b0b')\n",
    "  plt.xlabel(\" \")\n",
    "  plt.ylabel(\" \")\n",
    "  plt.xticks(fontsize = 12, fontweight = 'bold', color = 'brown')\n",
    "  plt.yticks(fontsize = 12, fontweight = 'bold', color = 'brown')\n",
    "  plt.tight_layout()"
   ]
  },
  {
   "cell_type": "code",
   "execution_count": 20,
   "id": "9ff084a2",
   "metadata": {},
   "outputs": [
    {
     "data": {
      "image/png": "[encoded data removed]",
      "text/plain": [
       "<Figure size 1152x720 with 2 Axes>"
      ]
     },
     "metadata": {},
     "output_type": "display_data"
    }
   ],
   "source": [
    "plt.figure(figsize = (16,10))\n",
    "\n",
    "for i,col in enumerate(['Quantity', 'UnitPrice']):\n",
    "  plt.subplot(2,2,i+1)\n",
    "  sns.histplot(x = retail_data[col], color = 'maroon', bins = 50)\n",
    "  plt.xticks(rotation = 0)\n",
    "  plt.title(col, fontsize = 15, fontweight = 'bold', color = '#bd0b0b')\n",
    "  plt.xlabel(\" \")\n",
    "  plt.ylabel(\" \")\n",
    "  plt.xticks(fontsize = 12, fontweight = 'bold', color = 'brown')\n",
    "  plt.yticks(fontsize = 12, fontweight = 'bold', color = 'brown')\n",
    "  plt.tight_layout()"
   ]
  },
  {
   "cell_type": "code",
   "execution_count": 21,
   "id": "cc5ac1a6",
   "metadata": {},
   "outputs": [
    {
     "data": {
      "image/png": "[encoded data removed]",
      "text/plain": [
       "<Figure size 1152x720 with 2 Axes>"
      ]
     },
     "metadata": {},
     "output_type": "display_data"
    }
   ],
   "source": [
    "plt.figure(figsize = (16,10))\n",
    "\n",
    "for i,col in enumerate(['Quantity', 'UnitPrice']):\n",
    "  plt.subplot(2,2,i+1)\n",
    "  sns.boxplot(x = retail_data[col], color = 'maroon')\n",
    "  plt.xticks(rotation = 0)\n",
    "  plt.title(col, fontsize = 15, fontweight = 'bold', color = '#bd0b0b')\n",
    "  plt.xlabel(\" \")\n",
    "  plt.ylabel(\" \")\n",
    "  plt.xticks(fontsize = 12, fontweight = 'bold', color = 'brown')\n",
    "  plt.yticks(fontsize = 12, fontweight = 'bold', color = 'brown')\n",
    "  plt.tight_layout()"
   ]
  },
  {
   "cell_type": "code",
   "execution_count": 22,
   "id": "2ece6b85",
   "metadata": {},
   "outputs": [
    {
     "data": {
      "text/plain": [
       "['InvoiceNo', 'StockCode', 'Description', 'CustomerID', 'Country']"
      ]
     },
     "execution_count": 22,
     "metadata": {},
     "output_type": "execute_result"
    }
   ],
   "source": [
    "categorical"
   ]
  },
  {
   "cell_type": "code",
   "execution_count": 23,
   "id": "c9c11fa2",
   "metadata": {},
   "outputs": [
    {
     "data": {
      "image/png": "[encoded data removed]",
      "text/plain": [
       "<Figure size 1152x720 with 1 Axes>"
      ]
     },
     "metadata": {},
     "output_type": "display_data"
    }
   ],
   "source": [
    "\"\"\"Categorical variables\"\"\" \n",
    "# Let's visualize some top products from the whole range\n",
    "top_products = retail_data['Description'].value_counts()[:20]\n",
    "plt.figure(figsize=(16,10))\n",
    "sns.set_context(\"paper\", font_scale=1.5)\n",
    "sns.barplot(y = top_products.index,\n",
    "            x = top_products.values, \n",
    "           palette='gist_heat')\n",
    "plt.title(\"Top 20 selling products\" ,fontsize = 20,  fontweight = 'bold', color = 'brown')\n",
    "plt.xticks(fontweight = 'bold', color = 'brown')\n",
    "plt.yticks(fontweight = 'bold', color = 'brown')\n",
    "plt.show()"
   ]
  },
  {
   "cell_type": "code",
   "execution_count": 24,
   "id": "a2b0fea6",
   "metadata": {},
   "outputs": [
    {
     "data": {
      "image/png": "[encoded data removed]",
      "text/plain": [
       "<Figure size 1152x576 with 1 Axes>"
      ]
     },
     "metadata": {},
     "output_type": "display_data"
    }
   ],
   "source": [
    "\"\"\"Categorical variables\"\"\" \n",
    "# Let's visualize some top products from the whole range\n",
    "top_users = retail_data[retail_data['CustomerID'] != '-99']['CustomerID'].value_counts()[:20]\n",
    "plt.figure(figsize=(16,8))\n",
    "sns.set_context(\"paper\", font_scale=1.5)\n",
    "sns.barplot(x = top_users.index,\n",
    "            y = top_users.values, \n",
    "           palette='gist_heat')\n",
    "plt.title(\"Top 20 Most Active Customers\" ,fontsize = 20,  fontweight = 'bold', color = 'brown')\n",
    "plt.xticks(fontweight = 'bold', color = 'brown', rotation = 60)\n",
    "plt.yticks(fontweight = 'bold', color = 'brown')\n",
    "plt.show()"
   ]
  },
  {
   "cell_type": "code",
   "execution_count": 25,
   "id": "3816e6f5",
   "metadata": {},
   "outputs": [
    {
     "data": {
      "image/png": "[encoded data removed]",
      "text/plain": [
       "<Figure size 1152x576 with 1 Axes>"
      ]
     },
     "metadata": {},
     "output_type": "display_data"
    }
   ],
   "source": [
    "plt.figure(figsize=(16,8))\n",
    "retail_data.InvoiceMonth.value_counts(sort=False).plot(kind='barh', color = '#095171')\n",
    "plt.title(\"Amount of transactions per month in 2010\")\n",
    "plt.show()"
   ]
  },
  {
   "cell_type": "code",
   "execution_count": 26,
   "id": "c1b615db",
   "metadata": {},
   "outputs": [],
   "source": [
    "#calculate revenue per row and add new column\n",
    "retail_data['Revenue'] = retail_data['Quantity'] * retail_data['UnitPrice']"
   ]
  },
  {
   "cell_type": "code",
   "execution_count": 27,
   "id": "008f2fd0",
   "metadata": {},
   "outputs": [
    {
     "data": {
      "image/png": "[encoded data removed]",
      "text/plain": [
       "<Figure size 1152x576 with 1 Axes>"
      ]
     },
     "metadata": {},
     "output_type": "display_data"
    }
   ],
   "source": [
    "# Let's visualize the top grossing months\n",
    "# retail_month = retail[retail.InvoiceDate.dt.year==2011]\n",
    "monthly_gross = retail_data.groupby('InvoiceMonth').Revenue.sum()\n",
    "\n",
    "plt.figure(figsize=(16,8))\n",
    "sns.set_context(\"talk\")\n",
    "sns.set_palette(\"PuBuGn_d\")\n",
    "sns.lineplot(y=monthly_gross.values,x=monthly_gross.index, marker='o', color = '#095171', lw = 3)\n",
    "plt.xticks(range(1,6))\n",
    "plt.title(\"Revenue per month in 2010\")\n",
    "plt.show()"
   ]
  },
  {
   "cell_type": "code",
   "execution_count": 28,
   "id": "b970ff3b",
   "metadata": {},
   "outputs": [
    {
     "data": {
      "text/html": [
       "<div>\n",
       "<style scoped>\n",
       "    .dataframe tbody tr th:only-of-type {\n",
       "        vertical-align: middle;\n",
       "    }\n",
       "\n",
       "    .dataframe tbody tr th {\n",
       "        vertical-align: top;\n",
       "    }\n",
       "\n",
       "    .dataframe thead th {\n",
       "        text-align: right;\n",
       "    }\n",
       "</style>\n",
       "<table border=\"1\" class=\"dataframe\">\n",
       "  <thead>\n",
       "    <tr style=\"text-align: right;\">\n",
       "      <th></th>\n",
       "      <th>CustomerID</th>\n",
       "      <th>Amount</th>\n",
       "    </tr>\n",
       "  </thead>\n",
       "  <tbody>\n",
       "    <tr>\n",
       "      <th>0</th>\n",
       "      <td>-99</td>\n",
       "      <td>36041.50</td>\n",
       "    </tr>\n",
       "    <tr>\n",
       "      <th>1</th>\n",
       "      <td>12395</td>\n",
       "      <td>346.10</td>\n",
       "    </tr>\n",
       "    <tr>\n",
       "      <th>2</th>\n",
       "      <td>12427</td>\n",
       "      <td>303.50</td>\n",
       "    </tr>\n",
       "    <tr>\n",
       "      <th>3</th>\n",
       "      <td>12431</td>\n",
       "      <td>358.25</td>\n",
       "    </tr>\n",
       "    <tr>\n",
       "      <th>4</th>\n",
       "      <td>12433</td>\n",
       "      <td>1919.14</td>\n",
       "    </tr>\n",
       "  </tbody>\n",
       "</table>\n",
       "</div>"
      ],
      "text/plain": [
       "  CustomerID    Amount\n",
       "0        -99  36041.50\n",
       "1      12395    346.10\n",
       "2      12427    303.50\n",
       "3      12431    358.25\n",
       "4      12433   1919.14"
      ]
     },
     "execution_count": 28,
     "metadata": {},
     "output_type": "execute_result"
    }
   ],
   "source": [
    "# New Attribute : Monetary\n",
    "\n",
    "retail_data['Amount'] = retail_data['Quantity']*retail_data['UnitPrice']\n",
    "rfm_m = retail_data.groupby('CustomerID')['Amount'].sum()\n",
    "rfm_m = rfm_m.reset_index()\n",
    "rfm_m.head()"
   ]
  },
  {
   "cell_type": "code",
   "execution_count": 29,
   "id": "9fdb3a48",
   "metadata": {},
   "outputs": [
    {
     "data": {
      "text/html": [
       "<div>\n",
       "<style scoped>\n",
       "    .dataframe tbody tr th:only-of-type {\n",
       "        vertical-align: middle;\n",
       "    }\n",
       "\n",
       "    .dataframe tbody tr th {\n",
       "        vertical-align: top;\n",
       "    }\n",
       "\n",
       "    .dataframe thead th {\n",
       "        text-align: right;\n",
       "    }\n",
       "</style>\n",
       "<table border=\"1\" class=\"dataframe\">\n",
       "  <thead>\n",
       "    <tr style=\"text-align: right;\">\n",
       "      <th></th>\n",
       "      <th>CustomerID</th>\n",
       "      <th>Frequency</th>\n",
       "    </tr>\n",
       "  </thead>\n",
       "  <tbody>\n",
       "    <tr>\n",
       "      <th>0</th>\n",
       "      <td>-99</td>\n",
       "      <td>2291</td>\n",
       "    </tr>\n",
       "    <tr>\n",
       "      <th>1</th>\n",
       "      <td>12395</td>\n",
       "      <td>12</td>\n",
       "    </tr>\n",
       "    <tr>\n",
       "      <th>2</th>\n",
       "      <td>12427</td>\n",
       "      <td>10</td>\n",
       "    </tr>\n",
       "    <tr>\n",
       "      <th>3</th>\n",
       "      <td>12431</td>\n",
       "      <td>14</td>\n",
       "    </tr>\n",
       "    <tr>\n",
       "      <th>4</th>\n",
       "      <td>12433</td>\n",
       "      <td>73</td>\n",
       "    </tr>\n",
       "  </tbody>\n",
       "</table>\n",
       "</div>"
      ],
      "text/plain": [
       "  CustomerID  Frequency\n",
       "0        -99       2291\n",
       "1      12395         12\n",
       "2      12427         10\n",
       "3      12431         14\n",
       "4      12433         73"
      ]
     },
     "execution_count": 29,
     "metadata": {},
     "output_type": "execute_result"
    }
   ],
   "source": [
    "# New Attribute : Frequency\n",
    "\n",
    "rfm_f = retail_data.groupby('CustomerID')['InvoiceNo'].count()\n",
    "rfm_f = rfm_f.reset_index()\n",
    "rfm_f.columns = ['CustomerID', 'Frequency']\n",
    "rfm_f.head()"
   ]
  },
  {
   "cell_type": "code",
   "execution_count": 30,
   "id": "9e6bfb9b",
   "metadata": {},
   "outputs": [
    {
     "data": {
      "text/html": [
       "<div>\n",
       "<style scoped>\n",
       "    .dataframe tbody tr th:only-of-type {\n",
       "        vertical-align: middle;\n",
       "    }\n",
       "\n",
       "    .dataframe tbody tr th {\n",
       "        vertical-align: top;\n",
       "    }\n",
       "\n",
       "    .dataframe thead th {\n",
       "        text-align: right;\n",
       "    }\n",
       "</style>\n",
       "<table border=\"1\" class=\"dataframe\">\n",
       "  <thead>\n",
       "    <tr style=\"text-align: right;\">\n",
       "      <th></th>\n",
       "      <th>CustomerID</th>\n",
       "      <th>Amount</th>\n",
       "      <th>Frequency</th>\n",
       "    </tr>\n",
       "  </thead>\n",
       "  <tbody>\n",
       "    <tr>\n",
       "      <th>0</th>\n",
       "      <td>-99</td>\n",
       "      <td>36041.50</td>\n",
       "      <td>2291</td>\n",
       "    </tr>\n",
       "    <tr>\n",
       "      <th>1</th>\n",
       "      <td>12395</td>\n",
       "      <td>346.10</td>\n",
       "      <td>12</td>\n",
       "    </tr>\n",
       "    <tr>\n",
       "      <th>2</th>\n",
       "      <td>12427</td>\n",
       "      <td>303.50</td>\n",
       "      <td>10</td>\n",
       "    </tr>\n",
       "    <tr>\n",
       "      <th>3</th>\n",
       "      <td>12431</td>\n",
       "      <td>358.25</td>\n",
       "      <td>14</td>\n",
       "    </tr>\n",
       "    <tr>\n",
       "      <th>4</th>\n",
       "      <td>12433</td>\n",
       "      <td>1919.14</td>\n",
       "      <td>73</td>\n",
       "    </tr>\n",
       "  </tbody>\n",
       "</table>\n",
       "</div>"
      ],
      "text/plain": [
       "  CustomerID    Amount  Frequency\n",
       "0        -99  36041.50       2291\n",
       "1      12395    346.10         12\n",
       "2      12427    303.50         10\n",
       "3      12431    358.25         14\n",
       "4      12433   1919.14         73"
      ]
     },
     "execution_count": 30,
     "metadata": {},
     "output_type": "execute_result"
    }
   ],
   "source": [
    "# Merging the two retail_datas\n",
    "\n",
    "rfm = pd.merge(rfm_m, rfm_f, on='CustomerID', how='inner')\n",
    "rfm.head()"
   ]
  },
  {
   "cell_type": "code",
   "execution_count": 31,
   "id": "658b51e0",
   "metadata": {},
   "outputs": [
    {
     "data": {
      "text/html": [
       "<div>\n",
       "<style scoped>\n",
       "    .dataframe tbody tr th:only-of-type {\n",
       "        vertical-align: middle;\n",
       "    }\n",
       "\n",
       "    .dataframe tbody tr th {\n",
       "        vertical-align: top;\n",
       "    }\n",
       "\n",
       "    .dataframe thead th {\n",
       "        text-align: right;\n",
       "    }\n",
       "</style>\n",
       "<table border=\"1\" class=\"dataframe\">\n",
       "  <thead>\n",
       "    <tr style=\"text-align: right;\">\n",
       "      <th></th>\n",
       "      <th>CustomerID</th>\n",
       "      <th>Amount</th>\n",
       "      <th>Frequency</th>\n",
       "      <th>Recency</th>\n",
       "    </tr>\n",
       "  </thead>\n",
       "  <tbody>\n",
       "    <tr>\n",
       "      <th>0</th>\n",
       "      <td>-99</td>\n",
       "      <td>36041.50</td>\n",
       "      <td>2291</td>\n",
       "      <td>0</td>\n",
       "    </tr>\n",
       "    <tr>\n",
       "      <th>1</th>\n",
       "      <td>12395</td>\n",
       "      <td>346.10</td>\n",
       "      <td>12</td>\n",
       "      <td>60</td>\n",
       "    </tr>\n",
       "    <tr>\n",
       "      <th>2</th>\n",
       "      <td>12427</td>\n",
       "      <td>303.50</td>\n",
       "      <td>10</td>\n",
       "      <td>61</td>\n",
       "    </tr>\n",
       "    <tr>\n",
       "      <th>3</th>\n",
       "      <td>12431</td>\n",
       "      <td>358.25</td>\n",
       "      <td>14</td>\n",
       "      <td>120</td>\n",
       "    </tr>\n",
       "    <tr>\n",
       "      <th>4</th>\n",
       "      <td>12433</td>\n",
       "      <td>1919.14</td>\n",
       "      <td>73</td>\n",
       "      <td>120</td>\n",
       "    </tr>\n",
       "  </tbody>\n",
       "</table>\n",
       "</div>"
      ],
      "text/plain": [
       "  CustomerID    Amount  Frequency  Recency\n",
       "0        -99  36041.50       2291        0\n",
       "1      12395    346.10         12       60\n",
       "2      12427    303.50         10       61\n",
       "3      12431    358.25         14      120\n",
       "4      12433   1919.14         73      120"
      ]
     },
     "execution_count": 31,
     "metadata": {},
     "output_type": "execute_result"
    }
   ],
   "source": [
    "# New Attribute : Recency\n",
    "\n",
    "# Compute the maximum date to know the last transaction date\n",
    "max_date = max(retail_data['InvoiceDate'])\n",
    "\n",
    "# Compute the difference between max date and transaction date\n",
    "retail_data['Diff'] = max_date - retail_data['InvoiceDate']\n",
    "\n",
    "# Compute last transaction date to get the recency of customers\n",
    "rfm_p = retail_data.groupby('CustomerID')['Diff'].min()\n",
    "rfm_p = rfm_p.reset_index()\n",
    "\n",
    "# Extract number of days only\n",
    "rfm_p['Diff'] = rfm_p['Diff'].dt.days\n",
    "\n",
    "# Merge tha dataframes to get the final RFM dataframe\n",
    "rfm = pd.merge(rfm, rfm_p, on='CustomerID', how='inner')\n",
    "rfm.columns = ['CustomerID', 'Amount', 'Frequency', 'Recency']\n",
    "rfm.head()"
   ]
  },
  {
   "cell_type": "code",
   "execution_count": 32,
   "id": "1ef4514a",
   "metadata": {},
   "outputs": [
    {
     "data": {
      "text/plain": [
       "Text(0.5, 0, 'Attributes')"
      ]
     },
     "execution_count": 32,
     "metadata": {},
     "output_type": "execute_result"
    },
    {
     "data": {
      "image/png": "[encoded data removed]",
      "text/plain": [
       "<Figure size 720x576 with 1 Axes>"
      ]
     },
     "metadata": {},
     "output_type": "display_data"
    }
   ],
   "source": [
    "# Outlier Analysis of Amount Frequency and Recency\n",
    "\n",
    "attributes = ['Amount','Frequency','Recency']\n",
    "plt.rcParams['figure.figsize'] = [10,8]\n",
    "sns.boxplot(data = rfm[attributes], orient=\"v\", palette=\"Set2\" ,whis=1.5,saturation=1, width=0.7)\n",
    "plt.title(\"Outliers Variable Distribution\", fontsize = 14, fontweight = 'bold')\n",
    "plt.ylabel(\"Range\", fontweight = 'bold')\n",
    "plt.xlabel(\"Attributes\", fontweight = 'bold')"
   ]
  },
  {
   "cell_type": "code",
   "execution_count": 33,
   "id": "c8bbb3a3",
   "metadata": {},
   "outputs": [],
   "source": [
    "# Removing (statistical) outliers for Amount\n",
    "Q1 = rfm.Amount.quantile(0.05)\n",
    "Q3 = rfm.Amount.quantile(0.95)\n",
    "IQR = Q3 - Q1\n",
    "rfm = rfm[(rfm.Amount >= Q1 - 1.5*IQR) & (rfm.Amount <= Q3 + 1.5*IQR)]\n",
    "\n",
    "# Removing (statistical) outliers for Recency\n",
    "Q1 = rfm.Recency.quantile(0.05)\n",
    "Q3 = rfm.Recency.quantile(0.95)\n",
    "IQR = Q3 - Q1\n",
    "rfm = rfm[(rfm.Recency >= Q1 - 1.5*IQR) & (rfm.Recency <= Q3 + 1.5*IQR)]\n",
    "\n",
    "# Removing (statistical) outliers for Frequency\n",
    "Q1 = rfm.Frequency.quantile(0.05)\n",
    "Q3 = rfm.Frequency.quantile(0.95)\n",
    "IQR = Q3 - Q1\n",
    "rfm = rfm[(rfm.Frequency >= Q1 - 1.5*IQR) & (rfm.Frequency <= Q3 + 1.5*IQR)]"
   ]
  },
  {
   "cell_type": "markdown",
   "id": "2496f69c",
   "metadata": {},
   "source": [
    "### **Rescaling the Attributes**\n",
    "It is extremely important to rescale the variables so that they have a comparable scale.| There are two common ways of rescaling:\n",
    "\n",
    "- Min-Max scaling\n",
    "- Standardisation (mean-0, sigma-1)\n",
    "\n",
    "Here, we will use Standardisation Scaling."
   ]
  },
  {
   "cell_type": "code",
   "execution_count": 34,
   "id": "5d1af6d3",
   "metadata": {},
   "outputs": [
    {
     "data": {
      "text/plain": [
       "(319, 3)"
      ]
     },
     "execution_count": 34,
     "metadata": {},
     "output_type": "execute_result"
    }
   ],
   "source": [
    "# Rescaling the attributes\n",
    "from sklearn import preprocessing\n",
    "\n",
    "rfm_retail_data = rfm[['Amount', 'Frequency', 'Recency']]\n",
    "\n",
    "# Instantiate\n",
    "scaler = preprocessing.StandardScaler()\n",
    "\n",
    "# fit_transform\n",
    "rfm_retail_data_scaled = scaler.fit_transform(rfm_retail_data)\n",
    "rfm_retail_data_scaled.shape\n"
   ]
  },
  {
   "cell_type": "markdown",
   "id": "57eb6dc8",
   "metadata": {},
   "source": [
    "### Step 5: Extracting Segments, Step 6 :Profiling Segments and  Step 7:  Describing Segments\n"
   ]
  },
  {
   "cell_type": "code",
   "execution_count": 73,
   "id": "682ac1b9",
   "metadata": {},
   "outputs": [],
   "source": [
    "retail_df = pd.read_csv('Downloads/OnlineRetaildata.csv')\n",
    "# 3. Prepare the data for modelling"
   ]
  },
  {
   "cell_type": "code",
   "execution_count": 36,
   "id": "497e7684",
   "metadata": {},
   "outputs": [
    {
     "data": {
      "text/html": [
       "<div>\n",
       "<style scoped>\n",
       "    .dataframe tbody tr th:only-of-type {\n",
       "        vertical-align: middle;\n",
       "    }\n",
       "\n",
       "    .dataframe tbody tr th {\n",
       "        vertical-align: top;\n",
       "    }\n",
       "\n",
       "    .dataframe thead th {\n",
       "        text-align: right;\n",
       "    }\n",
       "</style>\n",
       "<table border=\"1\" class=\"dataframe\">\n",
       "  <thead>\n",
       "    <tr style=\"text-align: right;\">\n",
       "      <th></th>\n",
       "      <th>InvoiceNo</th>\n",
       "      <th>StockCode</th>\n",
       "      <th>Description</th>\n",
       "      <th>Quantity</th>\n",
       "      <th>InvoiceDate</th>\n",
       "      <th>UnitPrice</th>\n",
       "      <th>CustomerID</th>\n",
       "      <th>Country</th>\n",
       "      <th>amount</th>\n",
       "    </tr>\n",
       "  </thead>\n",
       "  <tbody>\n",
       "    <tr>\n",
       "      <th>0</th>\n",
       "      <td>536365</td>\n",
       "      <td>85123A</td>\n",
       "      <td>WHITE HANGING HEART T-LIGHT HOLDER</td>\n",
       "      <td>6</td>\n",
       "      <td>1/12/2010 8:26</td>\n",
       "      <td>2.55</td>\n",
       "      <td>17850.0</td>\n",
       "      <td>United Kingdom</td>\n",
       "      <td>15.30</td>\n",
       "    </tr>\n",
       "    <tr>\n",
       "      <th>1</th>\n",
       "      <td>536365</td>\n",
       "      <td>71053</td>\n",
       "      <td>WHITE METAL LANTERN</td>\n",
       "      <td>6</td>\n",
       "      <td>1/12/2010 8:26</td>\n",
       "      <td>3.39</td>\n",
       "      <td>17850.0</td>\n",
       "      <td>United Kingdom</td>\n",
       "      <td>20.34</td>\n",
       "    </tr>\n",
       "    <tr>\n",
       "      <th>2</th>\n",
       "      <td>536365</td>\n",
       "      <td>84406B</td>\n",
       "      <td>CREAM CUPID HEARTS COAT HANGER</td>\n",
       "      <td>8</td>\n",
       "      <td>1/12/2010 8:26</td>\n",
       "      <td>2.75</td>\n",
       "      <td>17850.0</td>\n",
       "      <td>United Kingdom</td>\n",
       "      <td>22.00</td>\n",
       "    </tr>\n",
       "    <tr>\n",
       "      <th>3</th>\n",
       "      <td>536365</td>\n",
       "      <td>84029G</td>\n",
       "      <td>KNITTED UNION FLAG HOT WATER BOTTLE</td>\n",
       "      <td>6</td>\n",
       "      <td>1/12/2010 8:26</td>\n",
       "      <td>3.39</td>\n",
       "      <td>17850.0</td>\n",
       "      <td>United Kingdom</td>\n",
       "      <td>20.34</td>\n",
       "    </tr>\n",
       "    <tr>\n",
       "      <th>4</th>\n",
       "      <td>536365</td>\n",
       "      <td>84029E</td>\n",
       "      <td>RED WOOLLY HOTTIE WHITE HEART.</td>\n",
       "      <td>6</td>\n",
       "      <td>1/12/2010 8:26</td>\n",
       "      <td>3.39</td>\n",
       "      <td>17850.0</td>\n",
       "      <td>United Kingdom</td>\n",
       "      <td>20.34</td>\n",
       "    </tr>\n",
       "  </tbody>\n",
       "</table>\n",
       "</div>"
      ],
      "text/plain": [
       "  InvoiceNo StockCode                          Description  Quantity  \\\n",
       "0    536365    85123A   WHITE HANGING HEART T-LIGHT HOLDER         6   \n",
       "1    536365     71053                  WHITE METAL LANTERN         6   \n",
       "2    536365    84406B       CREAM CUPID HEARTS COAT HANGER         8   \n",
       "3    536365    84029G  KNITTED UNION FLAG HOT WATER BOTTLE         6   \n",
       "4    536365    84029E       RED WOOLLY HOTTIE WHITE HEART.         6   \n",
       "\n",
       "      InvoiceDate  UnitPrice  CustomerID         Country  amount  \n",
       "0  1/12/2010 8:26       2.55     17850.0  United Kingdom   15.30  \n",
       "1  1/12/2010 8:26       3.39     17850.0  United Kingdom   20.34  \n",
       "2  1/12/2010 8:26       2.75     17850.0  United Kingdom   22.00  \n",
       "3  1/12/2010 8:26       3.39     17850.0  United Kingdom   20.34  \n",
       "4  1/12/2010 8:26       3.39     17850.0  United Kingdom   20.34  "
      ]
     },
     "execution_count": 36,
     "metadata": {},
     "output_type": "execute_result"
    }
   ],
   "source": [
    "# new column: amount \n",
    "retail_df['amount'] = retail_df['Quantity']*retail_df['UnitPrice']\n",
    "retail_df.head()"
   ]
  },
  {
   "cell_type": "code",
   "execution_count": 37,
   "id": "cfce4c26",
   "metadata": {},
   "outputs": [
    {
     "data": {
      "text/html": [
       "<div>\n",
       "<style scoped>\n",
       "    .dataframe tbody tr th:only-of-type {\n",
       "        vertical-align: middle;\n",
       "    }\n",
       "\n",
       "    .dataframe tbody tr th {\n",
       "        vertical-align: top;\n",
       "    }\n",
       "\n",
       "    .dataframe thead th {\n",
       "        text-align: right;\n",
       "    }\n",
       "</style>\n",
       "<table border=\"1\" class=\"dataframe\">\n",
       "  <thead>\n",
       "    <tr style=\"text-align: right;\">\n",
       "      <th></th>\n",
       "      <th>CustomerID</th>\n",
       "      <th>amount</th>\n",
       "    </tr>\n",
       "  </thead>\n",
       "  <tbody>\n",
       "    <tr>\n",
       "      <th>0</th>\n",
       "      <td>12395.0</td>\n",
       "      <td>346.10</td>\n",
       "    </tr>\n",
       "    <tr>\n",
       "      <th>1</th>\n",
       "      <td>12427.0</td>\n",
       "      <td>303.50</td>\n",
       "    </tr>\n",
       "    <tr>\n",
       "      <th>2</th>\n",
       "      <td>12431.0</td>\n",
       "      <td>358.25</td>\n",
       "    </tr>\n",
       "    <tr>\n",
       "      <th>3</th>\n",
       "      <td>12433.0</td>\n",
       "      <td>1919.14</td>\n",
       "    </tr>\n",
       "    <tr>\n",
       "      <th>4</th>\n",
       "      <td>12471.0</td>\n",
       "      <td>-17.00</td>\n",
       "    </tr>\n",
       "  </tbody>\n",
       "</table>\n",
       "</div>"
      ],
      "text/plain": [
       "   CustomerID   amount\n",
       "0     12395.0   346.10\n",
       "1     12427.0   303.50\n",
       "2     12431.0   358.25\n",
       "3     12433.0  1919.14\n",
       "4     12471.0   -17.00"
      ]
     },
     "execution_count": 37,
     "metadata": {},
     "output_type": "execute_result"
    }
   ],
   "source": [
    "# monetary\n",
    "grouped_df = retail_df.groupby('CustomerID')['amount'].sum()\n",
    "grouped_df = grouped_df.reset_index()\n",
    "grouped_df.head()"
   ]
  },
  {
   "cell_type": "code",
   "execution_count": 38,
   "id": "3e372800",
   "metadata": {},
   "outputs": [
    {
     "data": {
      "text/html": [
       "<div>\n",
       "<style scoped>\n",
       "    .dataframe tbody tr th:only-of-type {\n",
       "        vertical-align: middle;\n",
       "    }\n",
       "\n",
       "    .dataframe tbody tr th {\n",
       "        vertical-align: top;\n",
       "    }\n",
       "\n",
       "    .dataframe thead th {\n",
       "        text-align: right;\n",
       "    }\n",
       "</style>\n",
       "<table border=\"1\" class=\"dataframe\">\n",
       "  <thead>\n",
       "    <tr style=\"text-align: right;\">\n",
       "      <th></th>\n",
       "      <th>InvoiceNo</th>\n",
       "      <th>StockCode</th>\n",
       "      <th>Description</th>\n",
       "      <th>Quantity</th>\n",
       "      <th>InvoiceDate</th>\n",
       "      <th>UnitPrice</th>\n",
       "      <th>CustomerID</th>\n",
       "      <th>Country</th>\n",
       "      <th>amount</th>\n",
       "    </tr>\n",
       "  </thead>\n",
       "  <tbody>\n",
       "    <tr>\n",
       "      <th>0</th>\n",
       "      <td>536365</td>\n",
       "      <td>85123A</td>\n",
       "      <td>WHITE HANGING HEART T-LIGHT HOLDER</td>\n",
       "      <td>6</td>\n",
       "      <td>1/12/2010 8:26</td>\n",
       "      <td>2.55</td>\n",
       "      <td>17850.0</td>\n",
       "      <td>United Kingdom</td>\n",
       "      <td>15.30</td>\n",
       "    </tr>\n",
       "    <tr>\n",
       "      <th>1</th>\n",
       "      <td>536365</td>\n",
       "      <td>71053</td>\n",
       "      <td>WHITE METAL LANTERN</td>\n",
       "      <td>6</td>\n",
       "      <td>1/12/2010 8:26</td>\n",
       "      <td>3.39</td>\n",
       "      <td>17850.0</td>\n",
       "      <td>United Kingdom</td>\n",
       "      <td>20.34</td>\n",
       "    </tr>\n",
       "    <tr>\n",
       "      <th>2</th>\n",
       "      <td>536365</td>\n",
       "      <td>84406B</td>\n",
       "      <td>CREAM CUPID HEARTS COAT HANGER</td>\n",
       "      <td>8</td>\n",
       "      <td>1/12/2010 8:26</td>\n",
       "      <td>2.75</td>\n",
       "      <td>17850.0</td>\n",
       "      <td>United Kingdom</td>\n",
       "      <td>22.00</td>\n",
       "    </tr>\n",
       "    <tr>\n",
       "      <th>3</th>\n",
       "      <td>536365</td>\n",
       "      <td>84029G</td>\n",
       "      <td>KNITTED UNION FLAG HOT WATER BOTTLE</td>\n",
       "      <td>6</td>\n",
       "      <td>1/12/2010 8:26</td>\n",
       "      <td>3.39</td>\n",
       "      <td>17850.0</td>\n",
       "      <td>United Kingdom</td>\n",
       "      <td>20.34</td>\n",
       "    </tr>\n",
       "    <tr>\n",
       "      <th>4</th>\n",
       "      <td>536365</td>\n",
       "      <td>84029E</td>\n",
       "      <td>RED WOOLLY HOTTIE WHITE HEART.</td>\n",
       "      <td>6</td>\n",
       "      <td>1/12/2010 8:26</td>\n",
       "      <td>3.39</td>\n",
       "      <td>17850.0</td>\n",
       "      <td>United Kingdom</td>\n",
       "      <td>20.34</td>\n",
       "    </tr>\n",
       "  </tbody>\n",
       "</table>\n",
       "</div>"
      ],
      "text/plain": [
       "  InvoiceNo StockCode                          Description  Quantity  \\\n",
       "0    536365    85123A   WHITE HANGING HEART T-LIGHT HOLDER         6   \n",
       "1    536365     71053                  WHITE METAL LANTERN         6   \n",
       "2    536365    84406B       CREAM CUPID HEARTS COAT HANGER         8   \n",
       "3    536365    84029G  KNITTED UNION FLAG HOT WATER BOTTLE         6   \n",
       "4    536365    84029E       RED WOOLLY HOTTIE WHITE HEART.         6   \n",
       "\n",
       "      InvoiceDate  UnitPrice  CustomerID         Country  amount  \n",
       "0  1/12/2010 8:26       2.55     17850.0  United Kingdom   15.30  \n",
       "1  1/12/2010 8:26       3.39     17850.0  United Kingdom   20.34  \n",
       "2  1/12/2010 8:26       2.75     17850.0  United Kingdom   22.00  \n",
       "3  1/12/2010 8:26       3.39     17850.0  United Kingdom   20.34  \n",
       "4  1/12/2010 8:26       3.39     17850.0  United Kingdom   20.34  "
      ]
     },
     "execution_count": 38,
     "metadata": {},
     "output_type": "execute_result"
    }
   ],
   "source": [
    "# new column: amount \n",
    "retail_df['amount'] = retail_df['Quantity']*retail_df['UnitPrice']\n",
    "retail_df.head()"
   ]
  },
  {
   "cell_type": "code",
   "execution_count": 39,
   "id": "39f68d00",
   "metadata": {},
   "outputs": [
    {
     "data": {
      "text/html": [
       "<div>\n",
       "<style scoped>\n",
       "    .dataframe tbody tr th:only-of-type {\n",
       "        vertical-align: middle;\n",
       "    }\n",
       "\n",
       "    .dataframe tbody tr th {\n",
       "        vertical-align: top;\n",
       "    }\n",
       "\n",
       "    .dataframe thead th {\n",
       "        text-align: right;\n",
       "    }\n",
       "</style>\n",
       "<table border=\"1\" class=\"dataframe\">\n",
       "  <thead>\n",
       "    <tr style=\"text-align: right;\">\n",
       "      <th></th>\n",
       "      <th>CustomerID</th>\n",
       "      <th>amount</th>\n",
       "    </tr>\n",
       "  </thead>\n",
       "  <tbody>\n",
       "    <tr>\n",
       "      <th>0</th>\n",
       "      <td>12395.0</td>\n",
       "      <td>346.10</td>\n",
       "    </tr>\n",
       "    <tr>\n",
       "      <th>1</th>\n",
       "      <td>12427.0</td>\n",
       "      <td>303.50</td>\n",
       "    </tr>\n",
       "    <tr>\n",
       "      <th>2</th>\n",
       "      <td>12431.0</td>\n",
       "      <td>358.25</td>\n",
       "    </tr>\n",
       "    <tr>\n",
       "      <th>3</th>\n",
       "      <td>12433.0</td>\n",
       "      <td>1919.14</td>\n",
       "    </tr>\n",
       "    <tr>\n",
       "      <th>4</th>\n",
       "      <td>12471.0</td>\n",
       "      <td>-17.00</td>\n",
       "    </tr>\n",
       "  </tbody>\n",
       "</table>\n",
       "</div>"
      ],
      "text/plain": [
       "   CustomerID   amount\n",
       "0     12395.0   346.10\n",
       "1     12427.0   303.50\n",
       "2     12431.0   358.25\n",
       "3     12433.0  1919.14\n",
       "4     12471.0   -17.00"
      ]
     },
     "execution_count": 39,
     "metadata": {},
     "output_type": "execute_result"
    }
   ],
   "source": [
    "# monetary\n",
    "grouped_df = retail_df.groupby('CustomerID')['amount'].sum()\n",
    "grouped_df = grouped_df.reset_index()\n",
    "grouped_df.head()"
   ]
  },
  {
   "cell_type": "code",
   "execution_count": 40,
   "id": "8ee397f5",
   "metadata": {},
   "outputs": [
    {
     "data": {
      "text/html": [
       "<div>\n",
       "<style scoped>\n",
       "    .dataframe tbody tr th:only-of-type {\n",
       "        vertical-align: middle;\n",
       "    }\n",
       "\n",
       "    .dataframe tbody tr th {\n",
       "        vertical-align: top;\n",
       "    }\n",
       "\n",
       "    .dataframe thead th {\n",
       "        text-align: right;\n",
       "    }\n",
       "</style>\n",
       "<table border=\"1\" class=\"dataframe\">\n",
       "  <thead>\n",
       "    <tr style=\"text-align: right;\">\n",
       "      <th></th>\n",
       "      <th>CustomerID</th>\n",
       "      <th>frequency</th>\n",
       "    </tr>\n",
       "  </thead>\n",
       "  <tbody>\n",
       "    <tr>\n",
       "      <th>0</th>\n",
       "      <td>12395.0</td>\n",
       "      <td>12</td>\n",
       "    </tr>\n",
       "    <tr>\n",
       "      <th>1</th>\n",
       "      <td>12427.0</td>\n",
       "      <td>10</td>\n",
       "    </tr>\n",
       "    <tr>\n",
       "      <th>2</th>\n",
       "      <td>12431.0</td>\n",
       "      <td>14</td>\n",
       "    </tr>\n",
       "    <tr>\n",
       "      <th>3</th>\n",
       "      <td>12433.0</td>\n",
       "      <td>73</td>\n",
       "    </tr>\n",
       "    <tr>\n",
       "      <th>4</th>\n",
       "      <td>12471.0</td>\n",
       "      <td>1</td>\n",
       "    </tr>\n",
       "  </tbody>\n",
       "</table>\n",
       "</div>"
      ],
      "text/plain": [
       "   CustomerID  frequency\n",
       "0     12395.0         12\n",
       "1     12427.0         10\n",
       "2     12431.0         14\n",
       "3     12433.0         73\n",
       "4     12471.0          1"
      ]
     },
     "execution_count": 40,
     "metadata": {},
     "output_type": "execute_result"
    }
   ],
   "source": [
    "# frequency\n",
    "frequency = retail_df.groupby('CustomerID')['InvoiceNo'].count()\n",
    "frequency = frequency.reset_index()\n",
    "frequency.columns = ['CustomerID', 'frequency']\n",
    "frequency.head()"
   ]
  },
  {
   "cell_type": "code",
   "execution_count": 41,
   "id": "5f7e4e77",
   "metadata": {},
   "outputs": [
    {
     "data": {
      "text/html": [
       "<div>\n",
       "<style scoped>\n",
       "    .dataframe tbody tr th:only-of-type {\n",
       "        vertical-align: middle;\n",
       "    }\n",
       "\n",
       "    .dataframe tbody tr th {\n",
       "        vertical-align: top;\n",
       "    }\n",
       "\n",
       "    .dataframe thead th {\n",
       "        text-align: right;\n",
       "    }\n",
       "</style>\n",
       "<table border=\"1\" class=\"dataframe\">\n",
       "  <thead>\n",
       "    <tr style=\"text-align: right;\">\n",
       "      <th></th>\n",
       "      <th>CustomerID</th>\n",
       "      <th>amount</th>\n",
       "      <th>frequency</th>\n",
       "    </tr>\n",
       "  </thead>\n",
       "  <tbody>\n",
       "    <tr>\n",
       "      <th>0</th>\n",
       "      <td>12395.0</td>\n",
       "      <td>346.10</td>\n",
       "      <td>12</td>\n",
       "    </tr>\n",
       "    <tr>\n",
       "      <th>1</th>\n",
       "      <td>12427.0</td>\n",
       "      <td>303.50</td>\n",
       "      <td>10</td>\n",
       "    </tr>\n",
       "    <tr>\n",
       "      <th>2</th>\n",
       "      <td>12431.0</td>\n",
       "      <td>358.25</td>\n",
       "      <td>14</td>\n",
       "    </tr>\n",
       "    <tr>\n",
       "      <th>3</th>\n",
       "      <td>12433.0</td>\n",
       "      <td>1919.14</td>\n",
       "      <td>73</td>\n",
       "    </tr>\n",
       "    <tr>\n",
       "      <th>4</th>\n",
       "      <td>12471.0</td>\n",
       "      <td>-17.00</td>\n",
       "      <td>1</td>\n",
       "    </tr>\n",
       "  </tbody>\n",
       "</table>\n",
       "</div>"
      ],
      "text/plain": [
       "   CustomerID   amount  frequency\n",
       "0     12395.0   346.10         12\n",
       "1     12427.0   303.50         10\n",
       "2     12431.0   358.25         14\n",
       "3     12433.0  1919.14         73\n",
       "4     12471.0   -17.00          1"
      ]
     },
     "execution_count": 41,
     "metadata": {},
     "output_type": "execute_result"
    }
   ],
   "source": [
    "# merge the two dfs\n",
    "grouped_df = pd.merge(grouped_df, frequency, on='CustomerID', how='inner')\n",
    "grouped_df.head()"
   ]
  },
  {
   "cell_type": "code",
   "execution_count": 42,
   "id": "28760a82",
   "metadata": {},
   "outputs": [],
   "source": [
    "# recency\n",
    "# convert to datetime\n",
    "retail_df['InvoiceDate'] = pd.to_datetime(retail_df['InvoiceDate'],format='%d/%m/%Y %H:%M')"
   ]
  },
  {
   "cell_type": "code",
   "execution_count": 43,
   "id": "416e22f5",
   "metadata": {},
   "outputs": [
    {
     "data": {
      "text/html": [
       "<div>\n",
       "<style scoped>\n",
       "    .dataframe tbody tr th:only-of-type {\n",
       "        vertical-align: middle;\n",
       "    }\n",
       "\n",
       "    .dataframe tbody tr th {\n",
       "        vertical-align: top;\n",
       "    }\n",
       "\n",
       "    .dataframe thead th {\n",
       "        text-align: right;\n",
       "    }\n",
       "</style>\n",
       "<table border=\"1\" class=\"dataframe\">\n",
       "  <thead>\n",
       "    <tr style=\"text-align: right;\">\n",
       "      <th></th>\n",
       "      <th>InvoiceNo</th>\n",
       "      <th>StockCode</th>\n",
       "      <th>Description</th>\n",
       "      <th>Quantity</th>\n",
       "      <th>InvoiceDate</th>\n",
       "      <th>UnitPrice</th>\n",
       "      <th>CustomerID</th>\n",
       "      <th>Country</th>\n",
       "      <th>amount</th>\n",
       "    </tr>\n",
       "  </thead>\n",
       "  <tbody>\n",
       "    <tr>\n",
       "      <th>0</th>\n",
       "      <td>536365</td>\n",
       "      <td>85123A</td>\n",
       "      <td>WHITE HANGING HEART T-LIGHT HOLDER</td>\n",
       "      <td>6</td>\n",
       "      <td>2010-12-01 08:26:00</td>\n",
       "      <td>2.55</td>\n",
       "      <td>17850.0</td>\n",
       "      <td>United Kingdom</td>\n",
       "      <td>15.30</td>\n",
       "    </tr>\n",
       "    <tr>\n",
       "      <th>1</th>\n",
       "      <td>536365</td>\n",
       "      <td>71053</td>\n",
       "      <td>WHITE METAL LANTERN</td>\n",
       "      <td>6</td>\n",
       "      <td>2010-12-01 08:26:00</td>\n",
       "      <td>3.39</td>\n",
       "      <td>17850.0</td>\n",
       "      <td>United Kingdom</td>\n",
       "      <td>20.34</td>\n",
       "    </tr>\n",
       "    <tr>\n",
       "      <th>2</th>\n",
       "      <td>536365</td>\n",
       "      <td>84406B</td>\n",
       "      <td>CREAM CUPID HEARTS COAT HANGER</td>\n",
       "      <td>8</td>\n",
       "      <td>2010-12-01 08:26:00</td>\n",
       "      <td>2.75</td>\n",
       "      <td>17850.0</td>\n",
       "      <td>United Kingdom</td>\n",
       "      <td>22.00</td>\n",
       "    </tr>\n",
       "    <tr>\n",
       "      <th>3</th>\n",
       "      <td>536365</td>\n",
       "      <td>84029G</td>\n",
       "      <td>KNITTED UNION FLAG HOT WATER BOTTLE</td>\n",
       "      <td>6</td>\n",
       "      <td>2010-12-01 08:26:00</td>\n",
       "      <td>3.39</td>\n",
       "      <td>17850.0</td>\n",
       "      <td>United Kingdom</td>\n",
       "      <td>20.34</td>\n",
       "    </tr>\n",
       "    <tr>\n",
       "      <th>4</th>\n",
       "      <td>536365</td>\n",
       "      <td>84029E</td>\n",
       "      <td>RED WOOLLY HOTTIE WHITE HEART.</td>\n",
       "      <td>6</td>\n",
       "      <td>2010-12-01 08:26:00</td>\n",
       "      <td>3.39</td>\n",
       "      <td>17850.0</td>\n",
       "      <td>United Kingdom</td>\n",
       "      <td>20.34</td>\n",
       "    </tr>\n",
       "  </tbody>\n",
       "</table>\n",
       "</div>"
      ],
      "text/plain": [
       "  InvoiceNo StockCode                          Description  Quantity  \\\n",
       "0    536365    85123A   WHITE HANGING HEART T-LIGHT HOLDER         6   \n",
       "1    536365     71053                  WHITE METAL LANTERN         6   \n",
       "2    536365    84406B       CREAM CUPID HEARTS COAT HANGER         8   \n",
       "3    536365    84029G  KNITTED UNION FLAG HOT WATER BOTTLE         6   \n",
       "4    536365    84029E       RED WOOLLY HOTTIE WHITE HEART.         6   \n",
       "\n",
       "          InvoiceDate  UnitPrice  CustomerID         Country  amount  \n",
       "0 2010-12-01 08:26:00       2.55     17850.0  United Kingdom   15.30  \n",
       "1 2010-12-01 08:26:00       3.39     17850.0  United Kingdom   20.34  \n",
       "2 2010-12-01 08:26:00       2.75     17850.0  United Kingdom   22.00  \n",
       "3 2010-12-01 08:26:00       3.39     17850.0  United Kingdom   20.34  \n",
       "4 2010-12-01 08:26:00       3.39     17850.0  United Kingdom   20.34  "
      ]
     },
     "execution_count": 43,
     "metadata": {},
     "output_type": "execute_result"
    }
   ],
   "source": [
    "retail_df.head()"
   ]
  },
  {
   "cell_type": "code",
   "execution_count": 44,
   "id": "236ade90",
   "metadata": {},
   "outputs": [
    {
     "data": {
      "text/plain": [
       "Timestamp('2010-12-05 16:24:00')"
      ]
     },
     "execution_count": 44,
     "metadata": {},
     "output_type": "execute_result"
    }
   ],
   "source": [
    "# compute the max date\n",
    "max_date = max(retail_df['InvoiceDate'])\n",
    "max_date"
   ]
  },
  {
   "cell_type": "code",
   "execution_count": 45,
   "id": "35c66b40",
   "metadata": {},
   "outputs": [
    {
     "data": {
      "text/html": [
       "<div>\n",
       "<style scoped>\n",
       "    .dataframe tbody tr th:only-of-type {\n",
       "        vertical-align: middle;\n",
       "    }\n",
       "\n",
       "    .dataframe tbody tr th {\n",
       "        vertical-align: top;\n",
       "    }\n",
       "\n",
       "    .dataframe thead th {\n",
       "        text-align: right;\n",
       "    }\n",
       "</style>\n",
       "<table border=\"1\" class=\"dataframe\">\n",
       "  <thead>\n",
       "    <tr style=\"text-align: right;\">\n",
       "      <th></th>\n",
       "      <th>InvoiceNo</th>\n",
       "      <th>StockCode</th>\n",
       "      <th>Description</th>\n",
       "      <th>Quantity</th>\n",
       "      <th>InvoiceDate</th>\n",
       "      <th>UnitPrice</th>\n",
       "      <th>CustomerID</th>\n",
       "      <th>Country</th>\n",
       "      <th>amount</th>\n",
       "      <th>diff</th>\n",
       "    </tr>\n",
       "  </thead>\n",
       "  <tbody>\n",
       "    <tr>\n",
       "      <th>0</th>\n",
       "      <td>536365</td>\n",
       "      <td>85123A</td>\n",
       "      <td>WHITE HANGING HEART T-LIGHT HOLDER</td>\n",
       "      <td>6</td>\n",
       "      <td>2010-12-01 08:26:00</td>\n",
       "      <td>2.55</td>\n",
       "      <td>17850.0</td>\n",
       "      <td>United Kingdom</td>\n",
       "      <td>15.30</td>\n",
       "      <td>4 days 07:58:00</td>\n",
       "    </tr>\n",
       "    <tr>\n",
       "      <th>1</th>\n",
       "      <td>536365</td>\n",
       "      <td>71053</td>\n",
       "      <td>WHITE METAL LANTERN</td>\n",
       "      <td>6</td>\n",
       "      <td>2010-12-01 08:26:00</td>\n",
       "      <td>3.39</td>\n",
       "      <td>17850.0</td>\n",
       "      <td>United Kingdom</td>\n",
       "      <td>20.34</td>\n",
       "      <td>4 days 07:58:00</td>\n",
       "    </tr>\n",
       "    <tr>\n",
       "      <th>2</th>\n",
       "      <td>536365</td>\n",
       "      <td>84406B</td>\n",
       "      <td>CREAM CUPID HEARTS COAT HANGER</td>\n",
       "      <td>8</td>\n",
       "      <td>2010-12-01 08:26:00</td>\n",
       "      <td>2.75</td>\n",
       "      <td>17850.0</td>\n",
       "      <td>United Kingdom</td>\n",
       "      <td>22.00</td>\n",
       "      <td>4 days 07:58:00</td>\n",
       "    </tr>\n",
       "    <tr>\n",
       "      <th>3</th>\n",
       "      <td>536365</td>\n",
       "      <td>84029G</td>\n",
       "      <td>KNITTED UNION FLAG HOT WATER BOTTLE</td>\n",
       "      <td>6</td>\n",
       "      <td>2010-12-01 08:26:00</td>\n",
       "      <td>3.39</td>\n",
       "      <td>17850.0</td>\n",
       "      <td>United Kingdom</td>\n",
       "      <td>20.34</td>\n",
       "      <td>4 days 07:58:00</td>\n",
       "    </tr>\n",
       "    <tr>\n",
       "      <th>4</th>\n",
       "      <td>536365</td>\n",
       "      <td>84029E</td>\n",
       "      <td>RED WOOLLY HOTTIE WHITE HEART.</td>\n",
       "      <td>6</td>\n",
       "      <td>2010-12-01 08:26:00</td>\n",
       "      <td>3.39</td>\n",
       "      <td>17850.0</td>\n",
       "      <td>United Kingdom</td>\n",
       "      <td>20.34</td>\n",
       "      <td>4 days 07:58:00</td>\n",
       "    </tr>\n",
       "  </tbody>\n",
       "</table>\n",
       "</div>"
      ],
      "text/plain": [
       "  InvoiceNo StockCode                          Description  Quantity  \\\n",
       "0    536365    85123A   WHITE HANGING HEART T-LIGHT HOLDER         6   \n",
       "1    536365     71053                  WHITE METAL LANTERN         6   \n",
       "2    536365    84406B       CREAM CUPID HEARTS COAT HANGER         8   \n",
       "3    536365    84029G  KNITTED UNION FLAG HOT WATER BOTTLE         6   \n",
       "4    536365    84029E       RED WOOLLY HOTTIE WHITE HEART.         6   \n",
       "\n",
       "          InvoiceDate  UnitPrice  CustomerID         Country  amount  \\\n",
       "0 2010-12-01 08:26:00       2.55     17850.0  United Kingdom   15.30   \n",
       "1 2010-12-01 08:26:00       3.39     17850.0  United Kingdom   20.34   \n",
       "2 2010-12-01 08:26:00       2.75     17850.0  United Kingdom   22.00   \n",
       "3 2010-12-01 08:26:00       3.39     17850.0  United Kingdom   20.34   \n",
       "4 2010-12-01 08:26:00       3.39     17850.0  United Kingdom   20.34   \n",
       "\n",
       "             diff  \n",
       "0 4 days 07:58:00  \n",
       "1 4 days 07:58:00  \n",
       "2 4 days 07:58:00  \n",
       "3 4 days 07:58:00  \n",
       "4 4 days 07:58:00  "
      ]
     },
     "execution_count": 45,
     "metadata": {},
     "output_type": "execute_result"
    }
   ],
   "source": [
    "# compute the diff\n",
    "retail_df['diff'] = max_date - retail_df['InvoiceDate']\n",
    "retail_df.head()"
   ]
  },
  {
   "cell_type": "code",
   "execution_count": 46,
   "id": "37f45ccf",
   "metadata": {},
   "outputs": [
    {
     "data": {
      "text/html": [
       "<div>\n",
       "<style scoped>\n",
       "    .dataframe tbody tr th:only-of-type {\n",
       "        vertical-align: middle;\n",
       "    }\n",
       "\n",
       "    .dataframe tbody tr th {\n",
       "        vertical-align: top;\n",
       "    }\n",
       "\n",
       "    .dataframe thead th {\n",
       "        text-align: right;\n",
       "    }\n",
       "</style>\n",
       "<table border=\"1\" class=\"dataframe\">\n",
       "  <thead>\n",
       "    <tr style=\"text-align: right;\">\n",
       "      <th></th>\n",
       "      <th>CustomerID</th>\n",
       "      <th>diff</th>\n",
       "    </tr>\n",
       "  </thead>\n",
       "  <tbody>\n",
       "    <tr>\n",
       "      <th>0</th>\n",
       "      <td>12395.0</td>\n",
       "      <td>1 days 23:49:00</td>\n",
       "    </tr>\n",
       "    <tr>\n",
       "      <th>1</th>\n",
       "      <td>12427.0</td>\n",
       "      <td>2 days 05:40:00</td>\n",
       "    </tr>\n",
       "    <tr>\n",
       "      <th>2</th>\n",
       "      <td>12431.0</td>\n",
       "      <td>4 days 06:21:00</td>\n",
       "    </tr>\n",
       "    <tr>\n",
       "      <th>3</th>\n",
       "      <td>12433.0</td>\n",
       "      <td>4 days 03:00:00</td>\n",
       "    </tr>\n",
       "    <tr>\n",
       "      <th>4</th>\n",
       "      <td>12471.0</td>\n",
       "      <td>3 days 05:47:00</td>\n",
       "    </tr>\n",
       "  </tbody>\n",
       "</table>\n",
       "</div>"
      ],
      "text/plain": [
       "   CustomerID            diff\n",
       "0     12395.0 1 days 23:49:00\n",
       "1     12427.0 2 days 05:40:00\n",
       "2     12431.0 4 days 06:21:00\n",
       "3     12433.0 4 days 03:00:00\n",
       "4     12471.0 3 days 05:47:00"
      ]
     },
     "execution_count": 46,
     "metadata": {},
     "output_type": "execute_result"
    }
   ],
   "source": [
    "# recency\n",
    "last_purchase = retail_df.groupby('CustomerID')['diff'].min()\n",
    "last_purchase = last_purchase.reset_index()\n",
    "last_purchase.head()"
   ]
  },
  {
   "cell_type": "code",
   "execution_count": 47,
   "id": "5d8fe6ca",
   "metadata": {},
   "outputs": [
    {
     "data": {
      "text/html": [
       "<div>\n",
       "<style scoped>\n",
       "    .dataframe tbody tr th:only-of-type {\n",
       "        vertical-align: middle;\n",
       "    }\n",
       "\n",
       "    .dataframe tbody tr th {\n",
       "        vertical-align: top;\n",
       "    }\n",
       "\n",
       "    .dataframe thead th {\n",
       "        text-align: right;\n",
       "    }\n",
       "</style>\n",
       "<table border=\"1\" class=\"dataframe\">\n",
       "  <thead>\n",
       "    <tr style=\"text-align: right;\">\n",
       "      <th></th>\n",
       "      <th>CustomerID</th>\n",
       "      <th>amount</th>\n",
       "      <th>frequency</th>\n",
       "      <th>recency</th>\n",
       "    </tr>\n",
       "  </thead>\n",
       "  <tbody>\n",
       "    <tr>\n",
       "      <th>0</th>\n",
       "      <td>12395.0</td>\n",
       "      <td>346.10</td>\n",
       "      <td>12</td>\n",
       "      <td>1 days 23:49:00</td>\n",
       "    </tr>\n",
       "    <tr>\n",
       "      <th>1</th>\n",
       "      <td>12427.0</td>\n",
       "      <td>303.50</td>\n",
       "      <td>10</td>\n",
       "      <td>2 days 05:40:00</td>\n",
       "    </tr>\n",
       "    <tr>\n",
       "      <th>2</th>\n",
       "      <td>12431.0</td>\n",
       "      <td>358.25</td>\n",
       "      <td>14</td>\n",
       "      <td>4 days 06:21:00</td>\n",
       "    </tr>\n",
       "    <tr>\n",
       "      <th>3</th>\n",
       "      <td>12433.0</td>\n",
       "      <td>1919.14</td>\n",
       "      <td>73</td>\n",
       "      <td>4 days 03:00:00</td>\n",
       "    </tr>\n",
       "    <tr>\n",
       "      <th>4</th>\n",
       "      <td>12471.0</td>\n",
       "      <td>-17.00</td>\n",
       "      <td>1</td>\n",
       "      <td>3 days 05:47:00</td>\n",
       "    </tr>\n",
       "  </tbody>\n",
       "</table>\n",
       "</div>"
      ],
      "text/plain": [
       "   CustomerID   amount  frequency         recency\n",
       "0     12395.0   346.10         12 1 days 23:49:00\n",
       "1     12427.0   303.50         10 2 days 05:40:00\n",
       "2     12431.0   358.25         14 4 days 06:21:00\n",
       "3     12433.0  1919.14         73 4 days 03:00:00\n",
       "4     12471.0   -17.00          1 3 days 05:47:00"
      ]
     },
     "execution_count": 47,
     "metadata": {},
     "output_type": "execute_result"
    }
   ],
   "source": [
    "# merge\n",
    "grouped_df = pd.merge(grouped_df, last_purchase, on='CustomerID', how='inner')\n",
    "grouped_df.columns = ['CustomerID', 'amount', 'frequency', 'recency']\n",
    "grouped_df.head()"
   ]
  },
  {
   "cell_type": "code",
   "execution_count": 48,
   "id": "f9b80be3",
   "metadata": {},
   "outputs": [
    {
     "data": {
      "text/html": [
       "<div>\n",
       "<style scoped>\n",
       "    .dataframe tbody tr th:only-of-type {\n",
       "        vertical-align: middle;\n",
       "    }\n",
       "\n",
       "    .dataframe tbody tr th {\n",
       "        vertical-align: top;\n",
       "    }\n",
       "\n",
       "    .dataframe thead th {\n",
       "        text-align: right;\n",
       "    }\n",
       "</style>\n",
       "<table border=\"1\" class=\"dataframe\">\n",
       "  <thead>\n",
       "    <tr style=\"text-align: right;\">\n",
       "      <th></th>\n",
       "      <th>CustomerID</th>\n",
       "      <th>amount</th>\n",
       "      <th>frequency</th>\n",
       "      <th>recency</th>\n",
       "    </tr>\n",
       "  </thead>\n",
       "  <tbody>\n",
       "    <tr>\n",
       "      <th>0</th>\n",
       "      <td>12395.0</td>\n",
       "      <td>346.10</td>\n",
       "      <td>12</td>\n",
       "      <td>1</td>\n",
       "    </tr>\n",
       "    <tr>\n",
       "      <th>1</th>\n",
       "      <td>12427.0</td>\n",
       "      <td>303.50</td>\n",
       "      <td>10</td>\n",
       "      <td>2</td>\n",
       "    </tr>\n",
       "    <tr>\n",
       "      <th>2</th>\n",
       "      <td>12431.0</td>\n",
       "      <td>358.25</td>\n",
       "      <td>14</td>\n",
       "      <td>4</td>\n",
       "    </tr>\n",
       "    <tr>\n",
       "      <th>3</th>\n",
       "      <td>12433.0</td>\n",
       "      <td>1919.14</td>\n",
       "      <td>73</td>\n",
       "      <td>4</td>\n",
       "    </tr>\n",
       "    <tr>\n",
       "      <th>4</th>\n",
       "      <td>12471.0</td>\n",
       "      <td>-17.00</td>\n",
       "      <td>1</td>\n",
       "      <td>3</td>\n",
       "    </tr>\n",
       "  </tbody>\n",
       "</table>\n",
       "</div>"
      ],
      "text/plain": [
       "   CustomerID   amount  frequency  recency\n",
       "0     12395.0   346.10         12        1\n",
       "1     12427.0   303.50         10        2\n",
       "2     12431.0   358.25         14        4\n",
       "3     12433.0  1919.14         73        4\n",
       "4     12471.0   -17.00          1        3"
      ]
     },
     "execution_count": 48,
     "metadata": {},
     "output_type": "execute_result"
    }
   ],
   "source": [
    "# number of days only\n",
    "grouped_df['recency'] = grouped_df['recency'].dt.days\n",
    "grouped_df.head()"
   ]
  },
  {
   "cell_type": "code",
   "execution_count": 49,
   "id": "4fed8940",
   "metadata": {},
   "outputs": [
    {
     "data": {
      "text/plain": [
       "{'whiskers': [<matplotlib.lines.Line2D at 0x1a784aa2640>,\n",
       "  <matplotlib.lines.Line2D at 0x1a784a9edc0>],\n",
       " 'caps': [<matplotlib.lines.Line2D at 0x1a784a9ea30>,\n",
       "  <matplotlib.lines.Line2D at 0x1a784a9e0a0>],\n",
       " 'boxes': [<matplotlib.lines.Line2D at 0x1a784aa24c0>],\n",
       " 'medians': [<matplotlib.lines.Line2D at 0x1a784a9e610>],\n",
       " 'fliers': [<matplotlib.lines.Line2D at 0x1a784a641f0>],\n",
       " 'means': []}"
      ]
     },
     "execution_count": 49,
     "metadata": {},
     "output_type": "execute_result"
    },
    {
     "data": {
      "image/png": "[encoded data removed]",
      "text/plain": [
       "<Figure size 720x576 with 1 Axes>"
      ]
     },
     "metadata": {},
     "output_type": "display_data"
    }
   ],
   "source": [
    "# 1. outlier treatment\n",
    "plt.boxplot(grouped_df['recency'])"
   ]
  },
  {
   "cell_type": "code",
   "execution_count": 50,
   "id": "75b793e5",
   "metadata": {},
   "outputs": [],
   "source": [
    "# removing (statistical) outliers\n",
    "Q1 = grouped_df.amount.quantile(0.05)\n",
    "Q3 = grouped_df.amount.quantile(0.95)\n",
    "IQR = Q3 - Q1\n",
    "grouped_df = grouped_df[(grouped_df.amount >= Q1 - 1.5*IQR) & (grouped_df.amount <= Q3 + 1.5*IQR)]\n",
    "\n",
    "# outlier treatment for recency\n",
    "Q1 = grouped_df.recency.quantile(0.05)\n",
    "Q3 = grouped_df.recency.quantile(0.95)\n",
    "IQR = Q3 - Q1\n",
    "grouped_df = grouped_df[(grouped_df.recency >= Q1 - 1.5*IQR) & (grouped_df.recency <= Q3 + 1.5*IQR)]\n",
    "\n",
    "# outlier treatment for frequency\n",
    "Q1 = grouped_df.frequency.quantile(0.05)\n",
    "Q3 = grouped_df.frequency.quantile(0.95)\n",
    "IQR = Q3 - Q1\n",
    "grouped_df = grouped_df[(grouped_df.frequency >= Q1 - 1.5*IQR) & (grouped_df.frequency <= Q3 + 1.5*IQR)]\n"
   ]
  },
  {
   "cell_type": "code",
   "execution_count": 93,
   "id": "5a55dcd6",
   "metadata": {},
   "outputs": [
    {
     "data": {
      "text/plain": [
       "(319, 3)"
      ]
     },
     "execution_count": 93,
     "metadata": {},
     "output_type": "execute_result"
    }
   ],
   "source": [
    "# 2. rescaling\n",
    "rfm_df = grouped_df[['amount', 'frequency', 'recency']]\n",
    "\n",
    "# instantiate\n",
    "scaler = StandardScaler()\n",
    "\n",
    "# fit_transform\n",
    "rfm_df_scaled = scaler.fit_transform(rfm_df)\n",
    "rfm_df_scaled.shape"
   ]
  },
  {
   "cell_type": "code",
   "execution_count": 94,
   "id": "a88720e6",
   "metadata": {},
   "outputs": [
    {
     "data": {
      "text/html": [
       "<div>\n",
       "<style scoped>\n",
       "    .dataframe tbody tr th:only-of-type {\n",
       "        vertical-align: middle;\n",
       "    }\n",
       "\n",
       "    .dataframe tbody tr th {\n",
       "        vertical-align: top;\n",
       "    }\n",
       "\n",
       "    .dataframe thead th {\n",
       "        text-align: right;\n",
       "    }\n",
       "</style>\n",
       "<table border=\"1\" class=\"dataframe\">\n",
       "  <thead>\n",
       "    <tr style=\"text-align: right;\">\n",
       "      <th></th>\n",
       "      <th>amount</th>\n",
       "      <th>frequency</th>\n",
       "      <th>recency</th>\n",
       "    </tr>\n",
       "  </thead>\n",
       "  <tbody>\n",
       "    <tr>\n",
       "      <th>0</th>\n",
       "      <td>-0.063173</td>\n",
       "      <td>-0.451167</td>\n",
       "      <td>-0.845361</td>\n",
       "    </tr>\n",
       "    <tr>\n",
       "      <th>1</th>\n",
       "      <td>-0.163502</td>\n",
       "      <td>-0.534239</td>\n",
       "      <td>-0.153899</td>\n",
       "    </tr>\n",
       "    <tr>\n",
       "      <th>2</th>\n",
       "      <td>-0.034558</td>\n",
       "      <td>-0.368095</td>\n",
       "      <td>1.229024</td>\n",
       "    </tr>\n",
       "    <tr>\n",
       "      <th>3</th>\n",
       "      <td>3.641574</td>\n",
       "      <td>2.082529</td>\n",
       "      <td>1.229024</td>\n",
       "    </tr>\n",
       "    <tr>\n",
       "      <th>4</th>\n",
       "      <td>-0.918328</td>\n",
       "      <td>-0.908063</td>\n",
       "      <td>0.537563</td>\n",
       "    </tr>\n",
       "  </tbody>\n",
       "</table>\n",
       "</div>"
      ],
      "text/plain": [
       "     amount  frequency   recency\n",
       "0 -0.063173  -0.451167 -0.845361\n",
       "1 -0.163502  -0.534239 -0.153899\n",
       "2 -0.034558  -0.368095  1.229024\n",
       "3  3.641574   2.082529  1.229024\n",
       "4 -0.918328  -0.908063  0.537563"
      ]
     },
     "execution_count": 94,
     "metadata": {},
     "output_type": "execute_result"
    }
   ],
   "source": [
    "rfm_df_scaled = pd.DataFrame(rfm_df_scaled)\n",
    "rfm_df_scaled.columns = ['amount', 'frequency', 'recency']\n",
    "rfm_df_scaled.head()"
   ]
  },
  {
   "cell_type": "markdown",
   "id": "095ae31d",
   "metadata": {},
   "source": [
    "### Step 8: Selecting the Target Segment(s) and Step 9:Evaluation and Monitoring"
   ]
  },
  {
   "cell_type": "code",
   "execution_count": 95,
   "id": "935a014a",
   "metadata": {},
   "outputs": [
    {
     "data": {
      "text/plain": [
       "KMeans(max_iter=50, n_clusters=4)"
      ]
     },
     "execution_count": 95,
     "metadata": {},
     "output_type": "execute_result"
    }
   ],
   "source": [
    "# k-means with some arbitrary k\n",
    "kmeans = KMeans(n_clusters=4, max_iter=50)\n",
    "kmeans.fit(rfm_df_scaled)\n"
   ]
  },
  {
   "cell_type": "code",
   "execution_count": 96,
   "id": "ed75babe",
   "metadata": {},
   "outputs": [
    {
     "data": {
      "text/plain": [
       "[<matplotlib.lines.Line2D at 0x1a787e77340>]"
      ]
     },
     "execution_count": 96,
     "metadata": {},
     "output_type": "execute_result"
    },
    {
     "data": {
      "image/png": "[encoded data removed]",
      "text/plain": [
       "<Figure size 720x576 with 1 Axes>"
      ]
     },
     "metadata": {},
     "output_type": "display_data"
    }
   ],
   "source": [
    "## Finding the Optimal Number of Clusters\n",
    "\n",
    "### SSD\n",
    "\n",
    "# elbow-curve/SSD\n",
    "ssd = []\n",
    "range_n_clusters = [2, 3, 4, 5, 6, 7, 8]\n",
    "for num_clusters in range_n_clusters:\n",
    "    kmeans = KMeans(n_clusters=num_clusters, max_iter=50)\n",
    "    kmeans.fit(rfm_df_scaled)\n",
    "    \n",
    "    ssd.append(kmeans.inertia_)\n",
    "    \n",
    "# plot the SSDs for each n_clusters\n",
    "# ssd\n",
    "plt.plot(ssd)"
   ]
  },
  {
   "cell_type": "markdown",
   "id": "b1375654",
   "metadata": {},
   "source": [
    "### Silhouette Analysis"
   ]
  },
  {
   "cell_type": "code",
   "execution_count": 97,
   "id": "986fb65e",
   "metadata": {},
   "outputs": [
    {
     "name": "stdout",
     "output_type": "stream",
     "text": [
      "For n_clusters=2, the silhouette score is 0.4189898346983673\n",
      "For n_clusters=3, the silhouette score is 0.4543131512814014\n",
      "For n_clusters=4, the silhouette score is 0.46738869896044616\n",
      "For n_clusters=5, the silhouette score is 0.4316958001879588\n",
      "For n_clusters=6, the silhouette score is 0.36152226193631526\n",
      "For n_clusters=7, the silhouette score is 0.36676297882255815\n",
      "For n_clusters=8, the silhouette score is 0.3676724411037524\n"
     ]
    }
   ],
   "source": [
    "### Silhouette Analysis\n",
    "# silhouette analysis\n",
    "range_n_clusters = [2, 3, 4, 5, 6, 7, 8]\n",
    "#rfm_df_scaled.columns = ['amount', 'frequency', 'recency']\n",
    "#selected_cols = ['amount', 'frequency', 'recency']\n",
    "#cluster_data = retail_df.loc[:,selected_cols]\n",
    "\n",
    "for num_clusters in range_n_clusters:\n",
    "    \n",
    "    # intialise kmeans\n",
    "    kmeans = KMeans(n_clusters=num_clusters, max_iter=50)\n",
    "    kmeans.fit(rfm_df_scaled)\n",
    "    \n",
    "    cluster_labels = kmeans.labels_\n",
    "    #clustered_data = cluster_data.assign(Cluster=cluster_labels)\n",
    "    #scatters(clustered_data, h='Cluster')\n",
    "   \n",
    "    # silhouette score\n",
    "    silhouette_avg = silhouette_score(rfm_df_scaled, cluster_labels)\n",
    "    print(\"For n_clusters={0}, the silhouette score is {1}\".format(num_clusters, silhouette_avg))\n",
    "    \n",
    "    "
   ]
  },
  {
   "cell_type": "code",
   "execution_count": 98,
   "id": "ccb7ec4c",
   "metadata": {},
   "outputs": [
    {
     "data": {
      "text/plain": [
       "KMeans(max_iter=50, n_clusters=3)"
      ]
     },
     "execution_count": 98,
     "metadata": {},
     "output_type": "execute_result"
    }
   ],
   "source": [
    "# final model with k=3\n",
    "kmeans = KMeans(n_clusters=3, max_iter=50)\n",
    "kmeans.fit(rfm_df_scaled)"
   ]
  },
  {
   "cell_type": "code",
   "execution_count": 99,
   "id": "11bd04fa",
   "metadata": {},
   "outputs": [
    {
     "data": {
      "text/plain": [
       "array([2, 0, 0, 1, 0, 1, 0, 1, 0, 0, 2, 0, 0, 0, 0, 2, 0, 0, 2, 2, 2, 0,\n",
       "       0, 0, 0, 2, 0, 0, 0, 0, 0, 1, 0, 0, 1, 2, 0, 0, 2, 1, 2, 0, 0, 0,\n",
       "       0, 0, 0, 2, 0, 2, 0, 0, 2, 0, 1, 0, 0, 0, 0, 2, 0, 0, 2, 0, 0, 0,\n",
       "       0, 0, 0, 1, 0, 2, 2, 1, 0, 0, 1, 0, 0, 0, 0, 2, 2, 0, 0, 0, 0, 2,\n",
       "       0, 0, 0, 0, 0, 0, 0, 0, 0, 0, 0, 2, 0, 0, 0, 0, 0, 2, 2, 2, 0, 0,\n",
       "       0, 2, 0, 0, 1, 0, 0, 2, 0, 0, 0, 0, 2, 2, 2, 0, 0, 0, 0, 0, 1, 0,\n",
       "       2, 2, 0, 0, 0, 0, 0, 0, 2, 2, 0, 0, 0, 1, 2, 1, 0, 2, 0, 0, 0, 2,\n",
       "       2, 0, 2, 0, 0, 0, 2, 2, 2, 2, 0, 0, 0, 0, 0, 0, 2, 2, 0, 0, 0, 0,\n",
       "       2, 0, 0, 0, 0, 0, 2, 2, 2, 2, 0, 0, 2, 0, 0, 1, 2, 0, 0, 0, 0, 2,\n",
       "       0, 2, 0, 0, 1, 0, 2, 1, 0, 0, 2, 2, 2, 2, 2, 1, 2, 0, 0, 0, 0, 0,\n",
       "       0, 0, 0, 2, 0, 0, 1, 0, 0, 2, 0, 2, 0, 2, 0, 0, 0, 0, 2, 0, 2, 0,\n",
       "       0, 0, 2, 2, 2, 0, 0, 0, 2, 2, 0, 0, 2, 2, 0, 0, 0, 0, 0, 2, 0, 0,\n",
       "       0, 1, 0, 0, 0, 0, 0, 0, 0, 0, 0, 0, 0, 0, 0, 0, 2, 0, 1, 0, 0, 2,\n",
       "       0, 2, 2, 0, 0, 0, 0, 0, 0, 0, 0, 1, 0, 0, 0, 0, 2, 2, 0, 0, 0, 2,\n",
       "       2, 0, 0, 2, 2, 0, 2, 0, 0, 0, 0])"
      ]
     },
     "execution_count": 99,
     "metadata": {},
     "output_type": "execute_result"
    }
   ],
   "source": [
    "kmeans.labels_"
   ]
  },
  {
   "cell_type": "code",
   "execution_count": 100,
   "id": "7477ee94",
   "metadata": {},
   "outputs": [
    {
     "data": {
      "text/html": [
       "<div>\n",
       "<style scoped>\n",
       "    .dataframe tbody tr th:only-of-type {\n",
       "        vertical-align: middle;\n",
       "    }\n",
       "\n",
       "    .dataframe tbody tr th {\n",
       "        vertical-align: top;\n",
       "    }\n",
       "\n",
       "    .dataframe thead th {\n",
       "        text-align: right;\n",
       "    }\n",
       "</style>\n",
       "<table border=\"1\" class=\"dataframe\">\n",
       "  <thead>\n",
       "    <tr style=\"text-align: right;\">\n",
       "      <th></th>\n",
       "      <th>CustomerID</th>\n",
       "      <th>amount</th>\n",
       "      <th>frequency</th>\n",
       "      <th>recency</th>\n",
       "      <th>cluster_id</th>\n",
       "      <th>cluster_labels</th>\n",
       "    </tr>\n",
       "  </thead>\n",
       "  <tbody>\n",
       "    <tr>\n",
       "      <th>0</th>\n",
       "      <td>12395.0</td>\n",
       "      <td>346.10</td>\n",
       "      <td>12</td>\n",
       "      <td>1</td>\n",
       "      <td>2</td>\n",
       "      <td>0</td>\n",
       "    </tr>\n",
       "    <tr>\n",
       "      <th>1</th>\n",
       "      <td>12427.0</td>\n",
       "      <td>303.50</td>\n",
       "      <td>10</td>\n",
       "      <td>2</td>\n",
       "      <td>0</td>\n",
       "      <td>0</td>\n",
       "    </tr>\n",
       "    <tr>\n",
       "      <th>2</th>\n",
       "      <td>12431.0</td>\n",
       "      <td>358.25</td>\n",
       "      <td>14</td>\n",
       "      <td>4</td>\n",
       "      <td>0</td>\n",
       "      <td>0</td>\n",
       "    </tr>\n",
       "    <tr>\n",
       "      <th>3</th>\n",
       "      <td>12433.0</td>\n",
       "      <td>1919.14</td>\n",
       "      <td>73</td>\n",
       "      <td>4</td>\n",
       "      <td>1</td>\n",
       "      <td>1</td>\n",
       "    </tr>\n",
       "    <tr>\n",
       "      <th>4</th>\n",
       "      <td>12471.0</td>\n",
       "      <td>-17.00</td>\n",
       "      <td>1</td>\n",
       "      <td>3</td>\n",
       "      <td>0</td>\n",
       "      <td>0</td>\n",
       "    </tr>\n",
       "  </tbody>\n",
       "</table>\n",
       "</div>"
      ],
      "text/plain": [
       "   CustomerID   amount  frequency  recency  cluster_id  cluster_labels\n",
       "0     12395.0   346.10         12        1           2               0\n",
       "1     12427.0   303.50         10        2           0               0\n",
       "2     12431.0   358.25         14        4           0               0\n",
       "3     12433.0  1919.14         73        4           1               1\n",
       "4     12471.0   -17.00          1        3           0               0"
      ]
     },
     "execution_count": 100,
     "metadata": {},
     "output_type": "execute_result"
    }
   ],
   "source": [
    "# assign the label\n",
    "grouped_df['cluster_id'] = kmeans.labels_\n",
    "grouped_df.head()\n"
   ]
  },
  {
   "cell_type": "code",
   "execution_count": 101,
   "id": "dd7b489d",
   "metadata": {},
   "outputs": [
    {
     "data": {
      "text/plain": [
       "<AxesSubplot:xlabel='cluster_id', ylabel='amount'>"
      ]
     },
     "execution_count": 101,
     "metadata": {},
     "output_type": "execute_result"
    },
    {
     "data": {
      "image/png": "[encoded data removed]",
      "text/plain": [
       "<Figure size 720x576 with 1 Axes>"
      ]
     },
     "metadata": {},
     "output_type": "display_data"
    }
   ],
   "source": [
    "# plot\n",
    "sns.boxplot(x='cluster_id', y='amount', data=grouped_df)"
   ]
  },
  {
   "cell_type": "markdown",
   "id": "f657f520",
   "metadata": {},
   "source": [
    "# Hierarchical Clustering"
   ]
  },
  {
   "cell_type": "code",
   "execution_count": 102,
   "id": "35284756",
   "metadata": {},
   "outputs": [
    {
     "data": {
      "image/png": "[encoded data removed]",
      "text/plain": [
       "<Figure size 720x576 with 1 Axes>"
      ]
     },
     "metadata": {},
     "output_type": "display_data"
    }
   ],
   "source": [
    "# single linkage\n",
    "mergings = linkage(rfm_df_scaled, method=\"single\", metric='euclidean')\n",
    "dendrogram(mergings)\n",
    "plt.show()"
   ]
  },
  {
   "cell_type": "code",
   "execution_count": 103,
   "id": "daff4799",
   "metadata": {},
   "outputs": [
    {
     "data": {
      "image/png": "[encoded data removed]",
      "text/plain": [
       "<Figure size 720x576 with 1 Axes>"
      ]
     },
     "metadata": {},
     "output_type": "display_data"
    }
   ],
   "source": [
    "# complete linkage\n",
    "mergings = linkage(rfm_df_scaled, method=\"complete\", metric='euclidean')\n",
    "dendrogram(mergings)\n",
    "plt.show()"
   ]
  },
  {
   "cell_type": "code",
   "execution_count": 104,
   "id": "7e4be7b8",
   "metadata": {},
   "outputs": [
    {
     "data": {
      "text/plain": [
       "array([0, 0, 0, 1, 0, 1, 0, 1, 0, 0, 0, 0, 0, 0, 0, 0, 0, 0, 0, 2, 0, 0,\n",
       "       0, 0, 2, 0, 0, 0, 0, 0, 0, 0, 0, 0, 1, 0, 0, 0, 0, 1, 0, 0, 0, 0,\n",
       "       0, 0, 0, 2, 0, 0, 0, 0, 0, 0, 1, 0, 0, 0, 0, 0, 0, 0, 0, 0, 0, 0,\n",
       "       0, 0, 0, 1, 0, 0, 0, 0, 0, 0, 1, 0, 0, 0, 0, 0, 2, 0, 0, 0, 0, 0,\n",
       "       0, 0, 0, 0, 0, 0, 2, 0, 0, 0, 0, 0, 0, 0, 0, 0, 0, 0, 0, 2, 0, 0,\n",
       "       0, 2, 0, 0, 1, 0, 0, 0, 2, 0, 0, 0, 0, 0, 0, 0, 0, 0, 0, 0, 1, 2,\n",
       "       0, 0, 0, 0, 0, 0, 0, 0, 0, 0, 0, 0, 0, 1, 1, 1, 0, 0, 0, 0, 0, 2,\n",
       "       0, 0, 0, 0, 2, 0, 0, 0, 0, 2, 2, 0, 0, 0, 0, 0, 0, 0, 0, 0, 0, 0,\n",
       "       1, 0, 0, 0, 0, 2, 0, 2, 0, 0, 0, 0, 0, 0, 0, 0, 0, 0, 0, 0, 0, 0,\n",
       "       0, 0, 0, 0, 1, 0, 0, 2, 0, 2, 0, 0, 0, 0, 0, 1, 0, 0, 0, 0, 0, 0,\n",
       "       0, 0, 0, 0, 0, 0, 1, 0, 0, 0, 0, 0, 0, 2, 0, 0, 0, 0, 0, 0, 0, 0,\n",
       "       0, 0, 0, 2, 0, 0, 0, 0, 0, 0, 0, 0, 0, 0, 0, 0, 0, 0, 0, 0, 0, 0,\n",
       "       0, 1, 0, 0, 0, 0, 0, 0, 0, 0, 0, 0, 0, 0, 0, 0, 0, 0, 0, 0, 0, 2,\n",
       "       0, 0, 0, 0, 0, 0, 0, 2, 2, 0, 0, 0, 0, 0, 0, 0, 0, 0, 2, 2, 0, 2,\n",
       "       0, 0, 0, 0, 2, 0, 0, 0, 0, 0, 0])"
      ]
     },
     "execution_count": 104,
     "metadata": {},
     "output_type": "execute_result"
    }
   ],
   "source": [
    "# 3 clusters\n",
    "cluster_labels = cut_tree(mergings, n_clusters=3).reshape(-1, )\n",
    "cluster_labels"
   ]
  },
  {
   "cell_type": "code",
   "execution_count": 105,
   "id": "c17e8949",
   "metadata": {},
   "outputs": [
    {
     "data": {
      "text/html": [
       "<div>\n",
       "<style scoped>\n",
       "    .dataframe tbody tr th:only-of-type {\n",
       "        vertical-align: middle;\n",
       "    }\n",
       "\n",
       "    .dataframe tbody tr th {\n",
       "        vertical-align: top;\n",
       "    }\n",
       "\n",
       "    .dataframe thead th {\n",
       "        text-align: right;\n",
       "    }\n",
       "</style>\n",
       "<table border=\"1\" class=\"dataframe\">\n",
       "  <thead>\n",
       "    <tr style=\"text-align: right;\">\n",
       "      <th></th>\n",
       "      <th>CustomerID</th>\n",
       "      <th>amount</th>\n",
       "      <th>frequency</th>\n",
       "      <th>recency</th>\n",
       "      <th>cluster_id</th>\n",
       "      <th>cluster_labels</th>\n",
       "    </tr>\n",
       "  </thead>\n",
       "  <tbody>\n",
       "    <tr>\n",
       "      <th>0</th>\n",
       "      <td>12395.0</td>\n",
       "      <td>346.10</td>\n",
       "      <td>12</td>\n",
       "      <td>1</td>\n",
       "      <td>2</td>\n",
       "      <td>0</td>\n",
       "    </tr>\n",
       "    <tr>\n",
       "      <th>1</th>\n",
       "      <td>12427.0</td>\n",
       "      <td>303.50</td>\n",
       "      <td>10</td>\n",
       "      <td>2</td>\n",
       "      <td>0</td>\n",
       "      <td>0</td>\n",
       "    </tr>\n",
       "    <tr>\n",
       "      <th>2</th>\n",
       "      <td>12431.0</td>\n",
       "      <td>358.25</td>\n",
       "      <td>14</td>\n",
       "      <td>4</td>\n",
       "      <td>0</td>\n",
       "      <td>0</td>\n",
       "    </tr>\n",
       "    <tr>\n",
       "      <th>3</th>\n",
       "      <td>12433.0</td>\n",
       "      <td>1919.14</td>\n",
       "      <td>73</td>\n",
       "      <td>4</td>\n",
       "      <td>1</td>\n",
       "      <td>1</td>\n",
       "    </tr>\n",
       "    <tr>\n",
       "      <th>4</th>\n",
       "      <td>12471.0</td>\n",
       "      <td>-17.00</td>\n",
       "      <td>1</td>\n",
       "      <td>3</td>\n",
       "      <td>0</td>\n",
       "      <td>0</td>\n",
       "    </tr>\n",
       "  </tbody>\n",
       "</table>\n",
       "</div>"
      ],
      "text/plain": [
       "   CustomerID   amount  frequency  recency  cluster_id  cluster_labels\n",
       "0     12395.0   346.10         12        1           2               0\n",
       "1     12427.0   303.50         10        2           0               0\n",
       "2     12431.0   358.25         14        4           0               0\n",
       "3     12433.0  1919.14         73        4           1               1\n",
       "4     12471.0   -17.00          1        3           0               0"
      ]
     },
     "execution_count": 105,
     "metadata": {},
     "output_type": "execute_result"
    }
   ],
   "source": [
    "# assign cluster labels\n",
    "grouped_df['cluster_labels'] = cluster_labels\n",
    "grouped_df.head()"
   ]
  },
  {
   "cell_type": "code",
   "execution_count": 92,
   "id": "2606448d",
   "metadata": {},
   "outputs": [
    {
     "name": "stdout",
     "output_type": "stream",
     "text": [
      "             amount  frequency  recency\n",
      "amount     1.000000   0.302721 -0.07164\n",
      "frequency  0.302721   1.000000 -0.24797\n",
      "recency   -0.071640  -0.247970  1.00000\n"
     ]
    },
    {
     "data": {
      "image/png": "[encoded data removed]",
      "text/plain": [
       "<Figure size 720x576 with 2 Axes>"
      ]
     },
     "metadata": {},
     "output_type": "display_data"
    }
   ],
   "source": [
    "print(rfm_df_scaled.corr())\n",
    "  \n",
    "# plotting correlation heatmap\n",
    "dataplot = sns.heatmap(rfm_df_scaled.corr(), cmap=\"YlGnBu\", annot=True)\n",
    "  \n",
    "# displaying heatmap\n",
    "plt.show()"
   ]
  },
  {
   "cell_type": "markdown",
   "id": "721c40e1",
   "metadata": {},
   "source": []
  },
  {
   "cell_type": "code",
   "execution_count": null,
   "id": "dd646412",
   "metadata": {},
   "outputs": [],
   "source": []
  },
  {
   "cell_type": "code",
   "execution_count": null,
   "id": "8f7d3b5f",
   "metadata": {},
   "outputs": [],
   "source": []
  },
  {
   "cell_type": "code",
   "execution_count": null,
   "id": "be28b0ec",
   "metadata": {},
   "outputs": [],
   "source": []
  }
 ],
 "metadata": {
  "kernelspec": {
   "display_name": "Python 3 (ipykernel)",
   "language": "python",
   "name": "python3"
  },
  "language_info": {
   "codemirror_mode": {
    "name": "ipython",
    "version": 3
   },
   "file_extension": ".py",
   "mimetype": "text/x-python",
   "name": "python",
   "nbconvert_exporter": "python",
   "pygments_lexer": "ipython3",
   "version": "3.9.7"
  }
 },
 "nbformat": 4,
 "nbformat_minor": 5
}
